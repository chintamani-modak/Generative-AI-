{
  "nbformat": 4,
  "nbformat_minor": 0,
  "metadata": {
    "colab": {
      "provenance": [],
      "gpuType": "T4"
    },
    "kernelspec": {
      "name": "python3",
      "display_name": "Python 3"
    },
    "language_info": {
      "name": "python"
    },
    "accelerator": "GPU"
  },
  "cells": [
    {
      "cell_type": "markdown",
      "source": [
        "# **Project: Prompt Engineering with LangChain and ChatGPT for real-world tasks**\n",
        "\n",
        "Here we will leverage ChatGPT and LangChain to solve and do a few mini-projects based on some real-world use cases:\n",
        "\n",
        "- Mini-Project 1: Review Analyst\n",
        "- Mini-Project 2: Research Paper Analyst\n",
        "\n"
      ],
      "metadata": {
        "id": "JLsrG-W45t_Z"
      }
    },
    {
      "cell_type": "markdown",
      "source": [
        "### **Install OpenAI and Langchain dependencies**"
      ],
      "metadata": {
        "id": "M23Ff_J36BQM"
      }
    },
    {
      "cell_type": "code",
      "source": [
        "!pip install langchain==0.3.11\n",
        "!pip install langchain-openai==0.2.12\n",
        "!pip install langchain-community==0.3.11"
      ],
      "metadata": {
        "colab": {
          "base_uri": "https://localhost:8080/"
        },
        "id": "SPHWbnu-599A",
        "outputId": "b293d41b-818c-4446-b31e-93a1652f6aeb",
        "collapsed": true
      },
      "execution_count": null,
      "outputs": [
        {
          "output_type": "stream",
          "name": "stdout",
          "text": [
            "Collecting langchain==0.3.11\n",
            "  Downloading langchain-0.3.11-py3-none-any.whl.metadata (7.1 kB)\n",
            "Requirement already satisfied: PyYAML>=5.3 in /usr/local/lib/python3.10/dist-packages (from langchain==0.3.11) (6.0.2)\n",
            "Requirement already satisfied: SQLAlchemy<3,>=1.4 in /usr/local/lib/python3.10/dist-packages (from langchain==0.3.11) (2.0.36)\n",
            "Requirement already satisfied: aiohttp<4.0.0,>=3.8.3 in /usr/local/lib/python3.10/dist-packages (from langchain==0.3.11) (3.11.11)\n",
            "Requirement already satisfied: async-timeout<5.0.0,>=4.0.0 in /usr/local/lib/python3.10/dist-packages (from langchain==0.3.11) (4.0.3)\n",
            "Requirement already satisfied: langchain-core<0.4.0,>=0.3.24 in /usr/local/lib/python3.10/dist-packages (from langchain==0.3.11) (0.3.29)\n",
            "Requirement already satisfied: langchain-text-splitters<0.4.0,>=0.3.0 in /usr/local/lib/python3.10/dist-packages (from langchain==0.3.11) (0.3.5)\n",
            "Requirement already satisfied: langsmith<0.3,>=0.1.17 in /usr/local/lib/python3.10/dist-packages (from langchain==0.3.11) (0.2.10)\n",
            "Requirement already satisfied: numpy<2,>=1.22.4 in /usr/local/lib/python3.10/dist-packages (from langchain==0.3.11) (1.26.4)\n",
            "Requirement already satisfied: pydantic<3.0.0,>=2.7.4 in /usr/local/lib/python3.10/dist-packages (from langchain==0.3.11) (2.10.4)\n",
            "Requirement already satisfied: requests<3,>=2 in /usr/local/lib/python3.10/dist-packages (from langchain==0.3.11) (2.32.3)\n",
            "Requirement already satisfied: tenacity!=8.4.0,<10,>=8.1.0 in /usr/local/lib/python3.10/dist-packages (from langchain==0.3.11) (9.0.0)\n",
            "Requirement already satisfied: aiohappyeyeballs>=2.3.0 in /usr/local/lib/python3.10/dist-packages (from aiohttp<4.0.0,>=3.8.3->langchain==0.3.11) (2.4.4)\n",
            "Requirement already satisfied: aiosignal>=1.1.2 in /usr/local/lib/python3.10/dist-packages (from aiohttp<4.0.0,>=3.8.3->langchain==0.3.11) (1.3.2)\n",
            "Requirement already satisfied: attrs>=17.3.0 in /usr/local/lib/python3.10/dist-packages (from aiohttp<4.0.0,>=3.8.3->langchain==0.3.11) (24.3.0)\n",
            "Requirement already satisfied: frozenlist>=1.1.1 in /usr/local/lib/python3.10/dist-packages (from aiohttp<4.0.0,>=3.8.3->langchain==0.3.11) (1.5.0)\n",
            "Requirement already satisfied: multidict<7.0,>=4.5 in /usr/local/lib/python3.10/dist-packages (from aiohttp<4.0.0,>=3.8.3->langchain==0.3.11) (6.1.0)\n",
            "Requirement already satisfied: propcache>=0.2.0 in /usr/local/lib/python3.10/dist-packages (from aiohttp<4.0.0,>=3.8.3->langchain==0.3.11) (0.2.1)\n",
            "Requirement already satisfied: yarl<2.0,>=1.17.0 in /usr/local/lib/python3.10/dist-packages (from aiohttp<4.0.0,>=3.8.3->langchain==0.3.11) (1.18.3)\n",
            "Requirement already satisfied: jsonpatch<2.0,>=1.33 in /usr/local/lib/python3.10/dist-packages (from langchain-core<0.4.0,>=0.3.24->langchain==0.3.11) (1.33)\n",
            "Requirement already satisfied: packaging<25,>=23.2 in /usr/local/lib/python3.10/dist-packages (from langchain-core<0.4.0,>=0.3.24->langchain==0.3.11) (24.2)\n",
            "Requirement already satisfied: typing-extensions>=4.7 in /usr/local/lib/python3.10/dist-packages (from langchain-core<0.4.0,>=0.3.24->langchain==0.3.11) (4.12.2)\n",
            "Requirement already satisfied: httpx<1,>=0.23.0 in /usr/local/lib/python3.10/dist-packages (from langsmith<0.3,>=0.1.17->langchain==0.3.11) (0.28.1)\n",
            "Requirement already satisfied: orjson<4.0.0,>=3.9.14 in /usr/local/lib/python3.10/dist-packages (from langsmith<0.3,>=0.1.17->langchain==0.3.11) (3.10.13)\n",
            "Requirement already satisfied: requests-toolbelt<2.0.0,>=1.0.0 in /usr/local/lib/python3.10/dist-packages (from langsmith<0.3,>=0.1.17->langchain==0.3.11) (1.0.0)\n",
            "Requirement already satisfied: annotated-types>=0.6.0 in /usr/local/lib/python3.10/dist-packages (from pydantic<3.0.0,>=2.7.4->langchain==0.3.11) (0.7.0)\n",
            "Requirement already satisfied: pydantic-core==2.27.2 in /usr/local/lib/python3.10/dist-packages (from pydantic<3.0.0,>=2.7.4->langchain==0.3.11) (2.27.2)\n",
            "Requirement already satisfied: charset-normalizer<4,>=2 in /usr/local/lib/python3.10/dist-packages (from requests<3,>=2->langchain==0.3.11) (3.4.1)\n",
            "Requirement already satisfied: idna<4,>=2.5 in /usr/local/lib/python3.10/dist-packages (from requests<3,>=2->langchain==0.3.11) (3.10)\n",
            "Requirement already satisfied: urllib3<3,>=1.21.1 in /usr/local/lib/python3.10/dist-packages (from requests<3,>=2->langchain==0.3.11) (2.3.0)\n",
            "Requirement already satisfied: certifi>=2017.4.17 in /usr/local/lib/python3.10/dist-packages (from requests<3,>=2->langchain==0.3.11) (2024.12.14)\n",
            "Requirement already satisfied: greenlet!=0.4.17 in /usr/local/lib/python3.10/dist-packages (from SQLAlchemy<3,>=1.4->langchain==0.3.11) (3.1.1)\n",
            "Requirement already satisfied: anyio in /usr/local/lib/python3.10/dist-packages (from httpx<1,>=0.23.0->langsmith<0.3,>=0.1.17->langchain==0.3.11) (3.7.1)\n",
            "Requirement already satisfied: httpcore==1.* in /usr/local/lib/python3.10/dist-packages (from httpx<1,>=0.23.0->langsmith<0.3,>=0.1.17->langchain==0.3.11) (1.0.7)\n",
            "Requirement already satisfied: h11<0.15,>=0.13 in /usr/local/lib/python3.10/dist-packages (from httpcore==1.*->httpx<1,>=0.23.0->langsmith<0.3,>=0.1.17->langchain==0.3.11) (0.14.0)\n",
            "Requirement already satisfied: jsonpointer>=1.9 in /usr/local/lib/python3.10/dist-packages (from jsonpatch<2.0,>=1.33->langchain-core<0.4.0,>=0.3.24->langchain==0.3.11) (3.0.0)\n",
            "Requirement already satisfied: sniffio>=1.1 in /usr/local/lib/python3.10/dist-packages (from anyio->httpx<1,>=0.23.0->langsmith<0.3,>=0.1.17->langchain==0.3.11) (1.3.1)\n",
            "Requirement already satisfied: exceptiongroup in /usr/local/lib/python3.10/dist-packages (from anyio->httpx<1,>=0.23.0->langsmith<0.3,>=0.1.17->langchain==0.3.11) (1.2.2)\n",
            "Downloading langchain-0.3.11-py3-none-any.whl (1.0 MB)\n",
            "\u001b[2K   \u001b[90m━━━━━━━━━━━━━━━━━━━━━━━━━━━━━━━━━━━━━━━━\u001b[0m \u001b[32m1.0/1.0 MB\u001b[0m \u001b[31m17.4 MB/s\u001b[0m eta \u001b[36m0:00:00\u001b[0m\n",
            "\u001b[?25hInstalling collected packages: langchain\n",
            "  Attempting uninstall: langchain\n",
            "    Found existing installation: langchain 0.3.14\n",
            "    Uninstalling langchain-0.3.14:\n",
            "      Successfully uninstalled langchain-0.3.14\n",
            "Successfully installed langchain-0.3.11\n",
            "Collecting langchain-openai==0.2.12\n",
            "  Downloading langchain_openai-0.2.12-py3-none-any.whl.metadata (2.7 kB)\n",
            "Requirement already satisfied: langchain-core<0.4.0,>=0.3.21 in /usr/local/lib/python3.10/dist-packages (from langchain-openai==0.2.12) (0.3.29)\n",
            "Requirement already satisfied: openai<2.0.0,>=1.55.3 in /usr/local/lib/python3.10/dist-packages (from langchain-openai==0.2.12) (1.59.4)\n",
            "Collecting tiktoken<1,>=0.7 (from langchain-openai==0.2.12)\n",
            "  Downloading tiktoken-0.8.0-cp310-cp310-manylinux_2_17_x86_64.manylinux2014_x86_64.whl.metadata (6.6 kB)\n",
            "Requirement already satisfied: PyYAML>=5.3 in /usr/local/lib/python3.10/dist-packages (from langchain-core<0.4.0,>=0.3.21->langchain-openai==0.2.12) (6.0.2)\n",
            "Requirement already satisfied: jsonpatch<2.0,>=1.33 in /usr/local/lib/python3.10/dist-packages (from langchain-core<0.4.0,>=0.3.21->langchain-openai==0.2.12) (1.33)\n",
            "Requirement already satisfied: langsmith<0.3,>=0.1.125 in /usr/local/lib/python3.10/dist-packages (from langchain-core<0.4.0,>=0.3.21->langchain-openai==0.2.12) (0.2.10)\n",
            "Requirement already satisfied: packaging<25,>=23.2 in /usr/local/lib/python3.10/dist-packages (from langchain-core<0.4.0,>=0.3.21->langchain-openai==0.2.12) (24.2)\n",
            "Requirement already satisfied: pydantic<3.0.0,>=2.5.2 in /usr/local/lib/python3.10/dist-packages (from langchain-core<0.4.0,>=0.3.21->langchain-openai==0.2.12) (2.10.4)\n",
            "Requirement already satisfied: tenacity!=8.4.0,<10.0.0,>=8.1.0 in /usr/local/lib/python3.10/dist-packages (from langchain-core<0.4.0,>=0.3.21->langchain-openai==0.2.12) (9.0.0)\n",
            "Requirement already satisfied: typing-extensions>=4.7 in /usr/local/lib/python3.10/dist-packages (from langchain-core<0.4.0,>=0.3.21->langchain-openai==0.2.12) (4.12.2)\n",
            "Requirement already satisfied: anyio<5,>=3.5.0 in /usr/local/lib/python3.10/dist-packages (from openai<2.0.0,>=1.55.3->langchain-openai==0.2.12) (3.7.1)\n",
            "Requirement already satisfied: distro<2,>=1.7.0 in /usr/local/lib/python3.10/dist-packages (from openai<2.0.0,>=1.55.3->langchain-openai==0.2.12) (1.9.0)\n",
            "Requirement already satisfied: httpx<1,>=0.23.0 in /usr/local/lib/python3.10/dist-packages (from openai<2.0.0,>=1.55.3->langchain-openai==0.2.12) (0.28.1)\n",
            "Requirement already satisfied: jiter<1,>=0.4.0 in /usr/local/lib/python3.10/dist-packages (from openai<2.0.0,>=1.55.3->langchain-openai==0.2.12) (0.8.2)\n",
            "Requirement already satisfied: sniffio in /usr/local/lib/python3.10/dist-packages (from openai<2.0.0,>=1.55.3->langchain-openai==0.2.12) (1.3.1)\n",
            "Requirement already satisfied: tqdm>4 in /usr/local/lib/python3.10/dist-packages (from openai<2.0.0,>=1.55.3->langchain-openai==0.2.12) (4.67.1)\n",
            "Requirement already satisfied: regex>=2022.1.18 in /usr/local/lib/python3.10/dist-packages (from tiktoken<1,>=0.7->langchain-openai==0.2.12) (2024.11.6)\n",
            "Requirement already satisfied: requests>=2.26.0 in /usr/local/lib/python3.10/dist-packages (from tiktoken<1,>=0.7->langchain-openai==0.2.12) (2.32.3)\n",
            "Requirement already satisfied: idna>=2.8 in /usr/local/lib/python3.10/dist-packages (from anyio<5,>=3.5.0->openai<2.0.0,>=1.55.3->langchain-openai==0.2.12) (3.10)\n",
            "Requirement already satisfied: exceptiongroup in /usr/local/lib/python3.10/dist-packages (from anyio<5,>=3.5.0->openai<2.0.0,>=1.55.3->langchain-openai==0.2.12) (1.2.2)\n",
            "Requirement already satisfied: certifi in /usr/local/lib/python3.10/dist-packages (from httpx<1,>=0.23.0->openai<2.0.0,>=1.55.3->langchain-openai==0.2.12) (2024.12.14)\n",
            "Requirement already satisfied: httpcore==1.* in /usr/local/lib/python3.10/dist-packages (from httpx<1,>=0.23.0->openai<2.0.0,>=1.55.3->langchain-openai==0.2.12) (1.0.7)\n",
            "Requirement already satisfied: h11<0.15,>=0.13 in /usr/local/lib/python3.10/dist-packages (from httpcore==1.*->httpx<1,>=0.23.0->openai<2.0.0,>=1.55.3->langchain-openai==0.2.12) (0.14.0)\n",
            "Requirement already satisfied: jsonpointer>=1.9 in /usr/local/lib/python3.10/dist-packages (from jsonpatch<2.0,>=1.33->langchain-core<0.4.0,>=0.3.21->langchain-openai==0.2.12) (3.0.0)\n",
            "Requirement already satisfied: orjson<4.0.0,>=3.9.14 in /usr/local/lib/python3.10/dist-packages (from langsmith<0.3,>=0.1.125->langchain-core<0.4.0,>=0.3.21->langchain-openai==0.2.12) (3.10.13)\n",
            "Requirement already satisfied: requests-toolbelt<2.0.0,>=1.0.0 in /usr/local/lib/python3.10/dist-packages (from langsmith<0.3,>=0.1.125->langchain-core<0.4.0,>=0.3.21->langchain-openai==0.2.12) (1.0.0)\n",
            "Requirement already satisfied: annotated-types>=0.6.0 in /usr/local/lib/python3.10/dist-packages (from pydantic<3.0.0,>=2.5.2->langchain-core<0.4.0,>=0.3.21->langchain-openai==0.2.12) (0.7.0)\n",
            "Requirement already satisfied: pydantic-core==2.27.2 in /usr/local/lib/python3.10/dist-packages (from pydantic<3.0.0,>=2.5.2->langchain-core<0.4.0,>=0.3.21->langchain-openai==0.2.12) (2.27.2)\n",
            "Requirement already satisfied: charset-normalizer<4,>=2 in /usr/local/lib/python3.10/dist-packages (from requests>=2.26.0->tiktoken<1,>=0.7->langchain-openai==0.2.12) (3.4.1)\n",
            "Requirement already satisfied: urllib3<3,>=1.21.1 in /usr/local/lib/python3.10/dist-packages (from requests>=2.26.0->tiktoken<1,>=0.7->langchain-openai==0.2.12) (2.3.0)\n",
            "Downloading langchain_openai-0.2.12-py3-none-any.whl (50 kB)\n",
            "\u001b[2K   \u001b[90m━━━━━━━━━━━━━━━━━━━━━━━━━━━━━━━━━━━━━━━━\u001b[0m \u001b[32m50.7/50.7 kB\u001b[0m \u001b[31m3.1 MB/s\u001b[0m eta \u001b[36m0:00:00\u001b[0m\n",
            "\u001b[?25hDownloading tiktoken-0.8.0-cp310-cp310-manylinux_2_17_x86_64.manylinux2014_x86_64.whl (1.2 MB)\n",
            "\u001b[2K   \u001b[90m━━━━━━━━━━━━━━━━━━━━━━━━━━━━━━━━━━━━━━━━\u001b[0m \u001b[32m1.2/1.2 MB\u001b[0m \u001b[31m28.4 MB/s\u001b[0m eta \u001b[36m0:00:00\u001b[0m\n",
            "\u001b[?25hInstalling collected packages: tiktoken, langchain-openai\n",
            "Successfully installed langchain-openai-0.2.12 tiktoken-0.8.0\n",
            "Collecting langchain-community==0.3.11\n",
            "  Downloading langchain_community-0.3.11-py3-none-any.whl.metadata (2.9 kB)\n",
            "Requirement already satisfied: PyYAML>=5.3 in /usr/local/lib/python3.10/dist-packages (from langchain-community==0.3.11) (6.0.2)\n",
            "Requirement already satisfied: SQLAlchemy<3,>=1.4 in /usr/local/lib/python3.10/dist-packages (from langchain-community==0.3.11) (2.0.36)\n",
            "Requirement already satisfied: aiohttp<4.0.0,>=3.8.3 in /usr/local/lib/python3.10/dist-packages (from langchain-community==0.3.11) (3.11.11)\n",
            "Collecting dataclasses-json<0.7,>=0.5.7 (from langchain-community==0.3.11)\n",
            "  Downloading dataclasses_json-0.6.7-py3-none-any.whl.metadata (25 kB)\n",
            "Collecting httpx-sse<0.5.0,>=0.4.0 (from langchain-community==0.3.11)\n",
            "  Downloading httpx_sse-0.4.0-py3-none-any.whl.metadata (9.0 kB)\n",
            "Requirement already satisfied: langchain<0.4.0,>=0.3.11 in /usr/local/lib/python3.10/dist-packages (from langchain-community==0.3.11) (0.3.11)\n",
            "Requirement already satisfied: langchain-core<0.4.0,>=0.3.24 in /usr/local/lib/python3.10/dist-packages (from langchain-community==0.3.11) (0.3.29)\n",
            "Requirement already satisfied: langsmith<0.3,>=0.1.125 in /usr/local/lib/python3.10/dist-packages (from langchain-community==0.3.11) (0.2.10)\n",
            "Requirement already satisfied: numpy<2,>=1.22.4 in /usr/local/lib/python3.10/dist-packages (from langchain-community==0.3.11) (1.26.4)\n",
            "Collecting pydantic-settings<3.0.0,>=2.4.0 (from langchain-community==0.3.11)\n",
            "  Downloading pydantic_settings-2.7.1-py3-none-any.whl.metadata (3.5 kB)\n",
            "Requirement already satisfied: requests<3,>=2 in /usr/local/lib/python3.10/dist-packages (from langchain-community==0.3.11) (2.32.3)\n",
            "Requirement already satisfied: tenacity!=8.4.0,<10,>=8.1.0 in /usr/local/lib/python3.10/dist-packages (from langchain-community==0.3.11) (9.0.0)\n",
            "Requirement already satisfied: aiohappyeyeballs>=2.3.0 in /usr/local/lib/python3.10/dist-packages (from aiohttp<4.0.0,>=3.8.3->langchain-community==0.3.11) (2.4.4)\n",
            "Requirement already satisfied: aiosignal>=1.1.2 in /usr/local/lib/python3.10/dist-packages (from aiohttp<4.0.0,>=3.8.3->langchain-community==0.3.11) (1.3.2)\n",
            "Requirement already satisfied: async-timeout<6.0,>=4.0 in /usr/local/lib/python3.10/dist-packages (from aiohttp<4.0.0,>=3.8.3->langchain-community==0.3.11) (4.0.3)\n",
            "Requirement already satisfied: attrs>=17.3.0 in /usr/local/lib/python3.10/dist-packages (from aiohttp<4.0.0,>=3.8.3->langchain-community==0.3.11) (24.3.0)\n",
            "Requirement already satisfied: frozenlist>=1.1.1 in /usr/local/lib/python3.10/dist-packages (from aiohttp<4.0.0,>=3.8.3->langchain-community==0.3.11) (1.5.0)\n",
            "Requirement already satisfied: multidict<7.0,>=4.5 in /usr/local/lib/python3.10/dist-packages (from aiohttp<4.0.0,>=3.8.3->langchain-community==0.3.11) (6.1.0)\n",
            "Requirement already satisfied: propcache>=0.2.0 in /usr/local/lib/python3.10/dist-packages (from aiohttp<4.0.0,>=3.8.3->langchain-community==0.3.11) (0.2.1)\n",
            "Requirement already satisfied: yarl<2.0,>=1.17.0 in /usr/local/lib/python3.10/dist-packages (from aiohttp<4.0.0,>=3.8.3->langchain-community==0.3.11) (1.18.3)\n",
            "Collecting marshmallow<4.0.0,>=3.18.0 (from dataclasses-json<0.7,>=0.5.7->langchain-community==0.3.11)\n",
            "  Downloading marshmallow-3.25.1-py3-none-any.whl.metadata (7.3 kB)\n",
            "Collecting typing-inspect<1,>=0.4.0 (from dataclasses-json<0.7,>=0.5.7->langchain-community==0.3.11)\n",
            "  Downloading typing_inspect-0.9.0-py3-none-any.whl.metadata (1.5 kB)\n",
            "Requirement already satisfied: langchain-text-splitters<0.4.0,>=0.3.0 in /usr/local/lib/python3.10/dist-packages (from langchain<0.4.0,>=0.3.11->langchain-community==0.3.11) (0.3.5)\n",
            "Requirement already satisfied: pydantic<3.0.0,>=2.7.4 in /usr/local/lib/python3.10/dist-packages (from langchain<0.4.0,>=0.3.11->langchain-community==0.3.11) (2.10.4)\n",
            "Requirement already satisfied: jsonpatch<2.0,>=1.33 in /usr/local/lib/python3.10/dist-packages (from langchain-core<0.4.0,>=0.3.24->langchain-community==0.3.11) (1.33)\n",
            "Requirement already satisfied: packaging<25,>=23.2 in /usr/local/lib/python3.10/dist-packages (from langchain-core<0.4.0,>=0.3.24->langchain-community==0.3.11) (24.2)\n",
            "Requirement already satisfied: typing-extensions>=4.7 in /usr/local/lib/python3.10/dist-packages (from langchain-core<0.4.0,>=0.3.24->langchain-community==0.3.11) (4.12.2)\n",
            "Requirement already satisfied: httpx<1,>=0.23.0 in /usr/local/lib/python3.10/dist-packages (from langsmith<0.3,>=0.1.125->langchain-community==0.3.11) (0.28.1)\n",
            "Requirement already satisfied: orjson<4.0.0,>=3.9.14 in /usr/local/lib/python3.10/dist-packages (from langsmith<0.3,>=0.1.125->langchain-community==0.3.11) (3.10.13)\n",
            "Requirement already satisfied: requests-toolbelt<2.0.0,>=1.0.0 in /usr/local/lib/python3.10/dist-packages (from langsmith<0.3,>=0.1.125->langchain-community==0.3.11) (1.0.0)\n",
            "Collecting python-dotenv>=0.21.0 (from pydantic-settings<3.0.0,>=2.4.0->langchain-community==0.3.11)\n",
            "  Downloading python_dotenv-1.0.1-py3-none-any.whl.metadata (23 kB)\n",
            "Requirement already satisfied: charset-normalizer<4,>=2 in /usr/local/lib/python3.10/dist-packages (from requests<3,>=2->langchain-community==0.3.11) (3.4.1)\n",
            "Requirement already satisfied: idna<4,>=2.5 in /usr/local/lib/python3.10/dist-packages (from requests<3,>=2->langchain-community==0.3.11) (3.10)\n",
            "Requirement already satisfied: urllib3<3,>=1.21.1 in /usr/local/lib/python3.10/dist-packages (from requests<3,>=2->langchain-community==0.3.11) (2.3.0)\n",
            "Requirement already satisfied: certifi>=2017.4.17 in /usr/local/lib/python3.10/dist-packages (from requests<3,>=2->langchain-community==0.3.11) (2024.12.14)\n",
            "Requirement already satisfied: greenlet!=0.4.17 in /usr/local/lib/python3.10/dist-packages (from SQLAlchemy<3,>=1.4->langchain-community==0.3.11) (3.1.1)\n",
            "Requirement already satisfied: anyio in /usr/local/lib/python3.10/dist-packages (from httpx<1,>=0.23.0->langsmith<0.3,>=0.1.125->langchain-community==0.3.11) (3.7.1)\n",
            "Requirement already satisfied: httpcore==1.* in /usr/local/lib/python3.10/dist-packages (from httpx<1,>=0.23.0->langsmith<0.3,>=0.1.125->langchain-community==0.3.11) (1.0.7)\n",
            "Requirement already satisfied: h11<0.15,>=0.13 in /usr/local/lib/python3.10/dist-packages (from httpcore==1.*->httpx<1,>=0.23.0->langsmith<0.3,>=0.1.125->langchain-community==0.3.11) (0.14.0)\n",
            "Requirement already satisfied: jsonpointer>=1.9 in /usr/local/lib/python3.10/dist-packages (from jsonpatch<2.0,>=1.33->langchain-core<0.4.0,>=0.3.24->langchain-community==0.3.11) (3.0.0)\n",
            "Requirement already satisfied: annotated-types>=0.6.0 in /usr/local/lib/python3.10/dist-packages (from pydantic<3.0.0,>=2.7.4->langchain<0.4.0,>=0.3.11->langchain-community==0.3.11) (0.7.0)\n",
            "Requirement already satisfied: pydantic-core==2.27.2 in /usr/local/lib/python3.10/dist-packages (from pydantic<3.0.0,>=2.7.4->langchain<0.4.0,>=0.3.11->langchain-community==0.3.11) (2.27.2)\n",
            "Collecting mypy-extensions>=0.3.0 (from typing-inspect<1,>=0.4.0->dataclasses-json<0.7,>=0.5.7->langchain-community==0.3.11)\n",
            "  Downloading mypy_extensions-1.0.0-py3-none-any.whl.metadata (1.1 kB)\n",
            "Requirement already satisfied: sniffio>=1.1 in /usr/local/lib/python3.10/dist-packages (from anyio->httpx<1,>=0.23.0->langsmith<0.3,>=0.1.125->langchain-community==0.3.11) (1.3.1)\n",
            "Requirement already satisfied: exceptiongroup in /usr/local/lib/python3.10/dist-packages (from anyio->httpx<1,>=0.23.0->langsmith<0.3,>=0.1.125->langchain-community==0.3.11) (1.2.2)\n",
            "Downloading langchain_community-0.3.11-py3-none-any.whl (2.5 MB)\n",
            "\u001b[2K   \u001b[90m━━━━━━━━━━━━━━━━━━━━━━━━━━━━━━━━━━━━━━━━\u001b[0m \u001b[32m2.5/2.5 MB\u001b[0m \u001b[31m41.5 MB/s\u001b[0m eta \u001b[36m0:00:00\u001b[0m\n",
            "\u001b[?25hDownloading dataclasses_json-0.6.7-py3-none-any.whl (28 kB)\n",
            "Downloading httpx_sse-0.4.0-py3-none-any.whl (7.8 kB)\n",
            "Downloading pydantic_settings-2.7.1-py3-none-any.whl (29 kB)\n",
            "Downloading marshmallow-3.25.1-py3-none-any.whl (49 kB)\n",
            "\u001b[2K   \u001b[90m━━━━━━━━━━━━━━━━━━━━━━━━━━━━━━━━━━━━━━━━\u001b[0m \u001b[32m49.6/49.6 kB\u001b[0m \u001b[31m4.5 MB/s\u001b[0m eta \u001b[36m0:00:00\u001b[0m\n",
            "\u001b[?25hDownloading python_dotenv-1.0.1-py3-none-any.whl (19 kB)\n",
            "Downloading typing_inspect-0.9.0-py3-none-any.whl (8.8 kB)\n",
            "Downloading mypy_extensions-1.0.0-py3-none-any.whl (4.7 kB)\n",
            "Installing collected packages: python-dotenv, mypy-extensions, marshmallow, httpx-sse, typing-inspect, pydantic-settings, dataclasses-json, langchain-community\n",
            "Successfully installed dataclasses-json-0.6.7 httpx-sse-0.4.0 langchain-community-0.3.11 marshmallow-3.25.1 mypy-extensions-1.0.0 pydantic-settings-2.7.1 python-dotenv-1.0.1 typing-inspect-0.9.0\n"
          ]
        }
      ]
    },
    {
      "cell_type": "markdown",
      "source": [
        "### **Setup API Tokens**"
      ],
      "metadata": {
        "id": "AI_hvFp16doB"
      }
    },
    {
      "cell_type": "code",
      "source": [
        "from getpass import getpass\n",
        "OPENAI_KEY = getpass(\"Please enter your Open AI API key here: \")"
      ],
      "metadata": {
        "colab": {
          "base_uri": "https://localhost:8080/"
        },
        "id": "AsXSbqm26TyX",
        "outputId": "afb83c29-a855-4d19-dea5-5e54e80767be"
      },
      "execution_count": null,
      "outputs": [
        {
          "name": "stdout",
          "output_type": "stream",
          "text": [
            "Please enter your Open AI API key here: ··········\n"
          ]
        }
      ]
    },
    {
      "cell_type": "markdown",
      "source": [
        "### **Setup system env variables**"
      ],
      "metadata": {
        "id": "n527YSDq69r8"
      }
    },
    {
      "cell_type": "code",
      "source": [
        "import os\n",
        "os.environ[\"OPENAI_API_KEY\"] = OPENAI_KEY\n"
      ],
      "metadata": {
        "id": "MeK7sqbj64UZ"
      },
      "execution_count": null,
      "outputs": []
    },
    {
      "cell_type": "markdown",
      "source": [
        "### **Load required dependencies and ChatGPT LLM**"
      ],
      "metadata": {
        "id": "MMP717TJ7KEE"
      }
    },
    {
      "cell_type": "code",
      "source": [
        "from langchain_core.prompts import ChatPromptTemplate\n",
        "from langchain_openai import ChatOpenAI"
      ],
      "metadata": {
        "id": "98iL6UWS7I8E"
      },
      "execution_count": null,
      "outputs": []
    },
    {
      "cell_type": "code",
      "source": [
        "chatgpt = ChatOpenAI(model_name=\"gpt-4\", temperature=0)"
      ],
      "metadata": {
        "id": "NK95Bza07d9a"
      },
      "execution_count": null,
      "outputs": []
    },
    {
      "cell_type": "markdown",
      "source": [
        "## **Mini-Project 1: Review Analyst**\n",
        "\n",
        "Here we are building an AI system to be able to look at customer reviews and do some complex analysis. for each review get ChatGPT to do the following:\n",
        "\n",
        "  - Summarize the review. The summary should be at most 3 lines.\n",
        "  - Highlight both the positives and negatives\n",
        "  - Display the overall sentiment of the review (positive, negative, neutral)\n",
        "  - Display a list of 3 - 5 emotions expressed by the customer in the review\n",
        "  - If the sentiment is positive or neutral write an email and thank them for the review\n",
        "  - If the sentiment is negative apologize and write an email with an appropriate response\n",
        "\n",
        "We will try to get the response in a nice structured format using an output parser"
      ],
      "metadata": {
        "id": "qcXleDxp7nJ8"
      }
    },
    {
      "cell_type": "markdown",
      "source": [
        "### Access Customer Reviews"
      ],
      "metadata": {
        "id": "wuYOt9jT72Xe"
      }
    },
    {
      "cell_type": "code",
      "source": [
        "reviews = [\n",
        "    f\"\"\"\n",
        "    Just received the Bluetooth speaker I ordered for beach outings, and it's fantastic.\n",
        "    The sound quality is impressively clear with just the right amount of bass.\n",
        "    It's also waterproof, which tested true during a recent splashing incident.\n",
        "    Though it's compact, the volume can really fill the space.\n",
        "    The price was a bargain for such high-quality sound.\n",
        "    Shipping was also on point, arriving two days early in secure packaging.\n",
        "    \"\"\",\n",
        "    f\"\"\"\n",
        "    Purchased a new gaming keyboard because of its rave reviews about responsiveness and backlighting.\n",
        "    It hasn't disappointed. The keys have a satisfying click and the LED colors are vibrant,\n",
        "    enhancing my gaming experience significantly. Price-wise, it's quite competitive,\n",
        "    and I feel like I got a good deal. The delivery was swift, and it came well-protected,\n",
        "    ensuring no damage during transport.\n",
        "    \"\"\",\n",
        "    f\"\"\"\n",
        "    Ordered a set of wireless earbuds for running, and they've been a letdown.\n",
        "    The sound constantly cuts out, and the fit is uncomfortable after only a few minutes of use.\n",
        "    They advertised a 12-hour battery life, but I'm barely getting four hours.\n",
        "    Considering the cost, I expected better quality and performance.\n",
        "    They did arrive on time, but the positives end there. I'm already looking into a return.\n",
        "    \"\"\",\n",
        "    f\"\"\"\n",
        "    The tablet stand I bought was touted as being sturdy and adjustable,\n",
        "    but it's anything but. It wobbles with the slightest touch,\n",
        "    and the angles are not holding up as promised. It feels like a breeze could knock it over.\n",
        "    It was also pricier than others I've seen, which adds to the disappointment.\n",
        "    It did arrive promptly, but what's the use if the product doesn't meet basic expectations?\n",
        "    \"\"\",\n",
        "    f\"\"\"\n",
        "    Needed a new kitchen blender, but this model has been a nightmare.\n",
        "    It's supposed to handle various foods, but it struggles with anything tougher than cooked vegetables.\n",
        "    It's also incredibly noisy, and the 'easy-clean' feature is a joke; food gets stuck under the blades constantly.\n",
        "    I thought the brand meant quality, but this product has proven me wrong.\n",
        "    Plus, it arrived three days late. Definitely not worth the expense.\n",
        "    \"\"\"\n",
        "]"
      ],
      "metadata": {
        "id": "zOd9YJoy7lVK"
      },
      "execution_count": null,
      "outputs": []
    },
    {
      "cell_type": "markdown",
      "source": [
        "### **Define output parser**"
      ],
      "metadata": {
        "id": "xCSLu2cF79ST"
      }
    },
    {
      "cell_type": "code",
      "source": [
        "from langchain_core.prompts import PromptTemplate\n",
        "from langchain_core.output_parsers import PydanticOutputParser\n",
        "from pydantic import BaseModel, Field\n",
        "\n",
        "class ReviewAnalysisResponse(BaseModel):\n",
        "    summary: str = Field(description=\"A brief summary of the customer review with maximum 3 lines\")\n",
        "    positives: list = Field(description=\"A list showing the positives mentioned by the customer in the review if any - max 3 points\")\n",
        "    negatives: list = Field(description=\"A list showing the negatives mentioned by the customer in the review if any - max 3 points\")\n",
        "    sentiment: str = Field(description=\"One word showing the sentiment of the review - positive, negative or neutral\")\n",
        "    emotions: list = Field(description=\"A list of 3 - 5 emotions expressed by the customer in the review\")\n",
        "    email: str = Field(description=\"Detailed email to the customer based on the sentiment\")\n",
        "\n",
        "# Set up a parser + inject instructions into the prompt template.\n",
        "parser = PydanticOutputParser(pydantic_object=ReviewAnalysisResponse)"
      ],
      "metadata": {
        "id": "XKmDoA8i78Mg"
      },
      "execution_count": null,
      "outputs": []
    },
    {
      "cell_type": "markdown",
      "source": [
        "### **Create input prompt for LLM**"
      ],
      "metadata": {
        "id": "GC5RsJit8cio"
      }
    },
    {
      "cell_type": "code",
      "source": [
        "# create the final prompt with formatting instructions from the parser\n",
        "prompt_txt = \"\"\"\n",
        "             Analyze the given customer review below and generate the response based on the instructions\n",
        "             mentioned below in the format instructions.\n",
        "             Also remember to write a detailed email response for the email field based on these conditions:\n",
        "               - email should be addressed to Dear Customer and signed with Service Agent\n",
        "               - thank them if the review is positive or neutral\n",
        "               - apologize if the review is negative\n",
        "\n",
        "             Format Instructions:\n",
        "             {format_instructions}\n",
        "\n",
        "             Review:\n",
        "             {review}\n",
        "            \"\"\"\n",
        "prompt = PromptTemplate(\n",
        "    template=prompt_txt,\n",
        "    input_variables=[\"review\"],\n",
        "    partial_variables={\"format_instructions\": parser.get_format_instructions()},\n",
        ")"
      ],
      "metadata": {
        "id": "LeCbHZK08acX"
      },
      "execution_count": null,
      "outputs": []
    },
    {
      "cell_type": "markdown",
      "source": [
        "### **Create LCEL LLM Chain**"
      ],
      "metadata": {
        "id": "VGmxKfNS8rTY"
      }
    },
    {
      "cell_type": "code",
      "source": [
        "# create a simple LCEL chain to take the prompt, pass it to the LLM, enforce response format using the parser\n",
        "chain = (prompt\n",
        "           |\n",
        "         chatgpt\n",
        "           |\n",
        "         parser)"
      ],
      "metadata": {
        "id": "XBA0Tto28yoC"
      },
      "execution_count": null,
      "outputs": []
    },
    {
      "cell_type": "markdown",
      "source": [
        "### **Format the input reviews**"
      ],
      "metadata": {
        "id": "B1IrZ6XB873L"
      }
    },
    {
      "cell_type": "code",
      "source": [
        "reviews_formatted = [{'review': review} for review in reviews]\n",
        "reviews_formatted[0]"
      ],
      "metadata": {
        "colab": {
          "base_uri": "https://localhost:8080/"
        },
        "id": "Yc0dmTdE82U9",
        "outputId": "ca63339f-89c8-4095-c41a-1ea6562a576f"
      },
      "execution_count": null,
      "outputs": [
        {
          "output_type": "execute_result",
          "data": {
            "text/plain": [
              "{'review': \"\\n    Just received the Bluetooth speaker I ordered for beach outings, and it's fantastic.\\n    The sound quality is impressively clear with just the right amount of bass.\\n    It's also waterproof, which tested true during a recent splashing incident.\\n    Though it's compact, the volume can really fill the space.\\n    The price was a bargain for such high-quality sound.\\n    Shipping was also on point, arriving two days early in secure packaging.\\n    \"}"
            ]
          },
          "metadata": {},
          "execution_count": 10
        }
      ]
    },
    {
      "cell_type": "markdown",
      "source": [
        "### **Get responses from LLM**"
      ],
      "metadata": {
        "id": "qqlBUkymmFwn"
      }
    },
    {
      "cell_type": "code",
      "source": [
        "responses = chain.map().invoke(reviews_formatted)"
      ],
      "metadata": {
        "id": "o3_wwOzcmOMf"
      },
      "execution_count": null,
      "outputs": []
    },
    {
      "cell_type": "markdown",
      "source": [
        "### **View LLM Responses**"
      ],
      "metadata": {
        "id": "1MkffBCXmSTq"
      }
    },
    {
      "cell_type": "code",
      "source": [
        "responses[0]"
      ],
      "metadata": {
        "colab": {
          "base_uri": "https://localhost:8080/"
        },
        "id": "pagzTas5mQBl",
        "outputId": "ccf63a8e-b03e-4aa8-a155-46a675cac018"
      },
      "execution_count": null,
      "outputs": [
        {
          "output_type": "execute_result",
          "data": {
            "text/plain": [
              "ReviewAnalysisResponse(summary='Customer is extremely satisfied with the Bluetooth speaker they ordered for beach outings, praising its sound quality, waterproof feature, compact size, and volume. They also appreciated the price and shipping.', positives=['Impressive sound quality with the right amount of bass', 'Waterproof feature tested and proven', 'Compact size with high volume', 'Good price for high-quality sound', 'Shipping was prompt and packaging secure'], negatives=[], sentiment='positive', emotions=['satisfaction', 'happiness', 'excitement', 'relief', 'appreciation'], email=\"Dear Customer,\\n\\nThank you for your positive review. We are thrilled to hear that you are satisfied with your Bluetooth speaker. It's great to know that you found the sound quality impressive and the waterproof feature useful. We are also glad that you appreciated the compact size, high volume, and the price of the product. Your satisfaction is our top priority and we are happy that we could exceed your expectations. We also appreciate your positive feedback about our shipping service. We strive to provide the best service to our customers and your feedback encourages us to do better. Thank you once again for your kind words.\\n\\nBest Regards,\\nService Agent\")"
            ]
          },
          "metadata": {},
          "execution_count": 12
        }
      ]
    },
    {
      "cell_type": "code",
      "source": [
        "responses[0].dict()"
      ],
      "metadata": {
        "colab": {
          "base_uri": "https://localhost:8080/"
        },
        "id": "9qy5t_Y5mbk0",
        "outputId": "ed0e21fa-27c7-4010-c282-fda9c1f210ce"
      },
      "execution_count": null,
      "outputs": [
        {
          "output_type": "stream",
          "name": "stderr",
          "text": [
            "<ipython-input-13-439f43c77e52>:1: PydanticDeprecatedSince20: The `dict` method is deprecated; use `model_dump` instead. Deprecated in Pydantic V2.0 to be removed in V3.0. See Pydantic V2 Migration Guide at https://errors.pydantic.dev/2.10/migration/\n",
            "  responses[0].dict()\n"
          ]
        },
        {
          "output_type": "execute_result",
          "data": {
            "text/plain": [
              "{'summary': 'Customer is extremely satisfied with the Bluetooth speaker they ordered for beach outings, praising its sound quality, waterproof feature, compact size, and volume. They also appreciated the price and shipping.',\n",
              " 'positives': ['Impressive sound quality with the right amount of bass',\n",
              "  'Waterproof feature tested and proven',\n",
              "  'Compact size with high volume',\n",
              "  'Good price for high-quality sound',\n",
              "  'Shipping was prompt and packaging secure'],\n",
              " 'negatives': [],\n",
              " 'sentiment': 'positive',\n",
              " 'emotions': ['satisfaction',\n",
              "  'happiness',\n",
              "  'excitement',\n",
              "  'relief',\n",
              "  'appreciation'],\n",
              " 'email': \"Dear Customer,\\n\\nThank you for your positive review. We are thrilled to hear that you are satisfied with your Bluetooth speaker. It's great to know that you found the sound quality impressive and the waterproof feature useful. We are also glad that you appreciated the compact size, high volume, and the price of the product. Your satisfaction is our top priority and we are happy that we could exceed your expectations. We also appreciate your positive feedback about our shipping service. We strive to provide the best service to our customers and your feedback encourages us to do better. Thank you once again for your kind words.\\n\\nBest Regards,\\nService Agent\"}"
            ]
          },
          "metadata": {},
          "execution_count": 13
        }
      ]
    },
    {
      "cell_type": "code",
      "source": [
        "for response in responses:\n",
        "  for k,v in response.dict().items():\n",
        "    print(f\"{k}: {v}\")\n",
        "    print('------')\n",
        "    print('\\n')"
      ],
      "metadata": {
        "colab": {
          "base_uri": "https://localhost:8080/"
        },
        "id": "G7aPzy-YmetB",
        "outputId": "9469f3b4-717d-4bf5-9e9f-e9fac530c8cd"
      },
      "execution_count": null,
      "outputs": [
        {
          "output_type": "stream",
          "name": "stdout",
          "text": [
            "summary: Customer is extremely satisfied with the Bluetooth speaker they ordered for beach outings, praising its sound quality, waterproof feature, compact size, and volume. They also appreciated the price and shipping.\n",
            "------\n",
            "\n",
            "\n",
            "positives: ['Impressive sound quality with the right amount of bass', 'Waterproof feature tested and proven', 'Compact size with high volume', 'Good price for high-quality sound', 'Shipping was prompt and packaging secure']\n",
            "------\n",
            "\n",
            "\n",
            "negatives: []\n",
            "------\n",
            "\n",
            "\n",
            "sentiment: positive\n",
            "------\n",
            "\n",
            "\n",
            "emotions: ['satisfaction', 'happiness', 'excitement', 'relief', 'appreciation']\n",
            "------\n",
            "\n",
            "\n",
            "email: Dear Customer,\n",
            "\n",
            "Thank you for your positive review. We are thrilled to hear that you are satisfied with your Bluetooth speaker. It's great to know that you found the sound quality impressive and the waterproof feature useful. We are also glad that you appreciated the compact size, high volume, and the price of the product. Your satisfaction is our top priority and we are happy that we could exceed your expectations. We also appreciate your positive feedback about our shipping service. We strive to provide the best service to our customers and your feedback encourages us to do better. Thank you once again for your kind words.\n",
            "\n",
            "Best Regards,\n",
            "Service Agent\n",
            "------\n",
            "\n",
            "\n",
            "summary: Customer is satisfied with the gaming keyboard they purchased due to its responsiveness, vibrant LED colors, and competitive price. They also appreciated the swift and secure delivery.\n",
            "------\n",
            "\n",
            "\n",
            "positives: [\"Keyboard's responsiveness\", 'Vibrant LED colors', 'Competitive price', 'Swift and secure delivery']\n",
            "------\n",
            "\n",
            "\n",
            "negatives: []\n",
            "------\n",
            "\n",
            "\n",
            "sentiment: positive\n",
            "------\n",
            "\n",
            "\n",
            "emotions: ['satisfaction', 'happiness', 'contentment']\n",
            "------\n",
            "\n",
            "\n",
            "email: Dear Customer,\n",
            "\n",
            "Thank you for your positive review. We are thrilled to hear that you are satisfied with your new gaming keyboard and that it has enhanced your gaming experience. We are also glad to know that you found the price competitive and appreciated the swift and secure delivery. We strive to provide our customers with high-quality products and excellent service. Your feedback is greatly appreciated and will help us to continue to improve our services.\n",
            "\n",
            "Best Regards,\n",
            "Service Agent\n",
            "------\n",
            "\n",
            "\n",
            "summary: Customer is disappointed with the wireless earbuds they ordered for running due to poor sound quality, uncomfortable fit, and short battery life.\n",
            "------\n",
            "\n",
            "\n",
            "positives: ['Product arrived on time']\n",
            "------\n",
            "\n",
            "\n",
            "negatives: ['Sound constantly cuts out', 'Uncomfortable fit', 'Battery life is shorter than advertised']\n",
            "------\n",
            "\n",
            "\n",
            "sentiment: negative\n",
            "------\n",
            "\n",
            "\n",
            "emotions: ['disappointed', 'frustrated', 'uncomfortable', 'dissatisfied', 'letdown']\n",
            "------\n",
            "\n",
            "\n",
            "email: Dear Customer,\n",
            "\n",
            "We are truly sorry to hear about your negative experience with our wireless earbuds. We understand your disappointment with the sound quality, fit, and battery life. We strive to provide our customers with high-quality products and your feedback is invaluable in helping us improve. We will look into the issues you've raised and work on improving our product. In the meantime, we will assist you with the return process. Thank you for bringing this to our attention.\n",
            "\n",
            "Best Regards,\n",
            "Service Agent\n",
            "------\n",
            "\n",
            "\n",
            "summary: Customer is disappointed with the tablet stand due to its instability and high price.\n",
            "------\n",
            "\n",
            "\n",
            "positives: ['Product arrived promptly']\n",
            "------\n",
            "\n",
            "\n",
            "negatives: ['Stand is not sturdy', 'Angles are not holding up', 'Pricier than other options']\n",
            "------\n",
            "\n",
            "\n",
            "sentiment: negative\n",
            "------\n",
            "\n",
            "\n",
            "emotions: ['disappointed', 'frustrated', 'unsatisfied']\n",
            "------\n",
            "\n",
            "\n",
            "email: Dear Customer,\n",
            "\n",
            "We are truly sorry to hear about your experience with the tablet stand. We understand your disappointment and frustration due to the product not meeting your expectations in terms of sturdiness and price. We appreciate your feedback and will take it into account to improve our products and services. We are glad to hear that the product arrived promptly, and we hope to provide you with a better experience in the future.\n",
            "\n",
            "Best Regards,\n",
            "Service Agent\n",
            "------\n",
            "\n",
            "\n",
            "summary: The customer is dissatisfied with the kitchen blender they purchased, citing issues with its performance, noise level, cleaning difficulty, and late delivery.\n",
            "------\n",
            "\n",
            "\n",
            "positives: []\n",
            "------\n",
            "\n",
            "\n",
            "negatives: ['Struggles with anything tougher than cooked vegetables', 'Incredibly noisy', 'Food gets stuck under the blades', 'Arrived three days late']\n",
            "------\n",
            "\n",
            "\n",
            "sentiment: negative\n",
            "------\n",
            "\n",
            "\n",
            "emotions: ['frustration', 'disappointment', 'regret']\n",
            "------\n",
            "\n",
            "\n",
            "email: Dear Customer,\n",
            "\n",
            "We are truly sorry to hear about your negative experience with our kitchen blender. We understand your frustration and disappointment, especially since you expected a high-quality product from our brand. We apologize for the issues you've encountered, including the blender's performance, noise level, and cleaning difficulty, as well as the late delivery. We value your feedback and will take it into account as we strive to improve our products and services. We hope to have the opportunity to serve you better in the future.\n",
            "\n",
            "Best Regards,\n",
            "Service Agent\n",
            "------\n",
            "\n",
            "\n"
          ]
        },
        {
          "output_type": "stream",
          "name": "stderr",
          "text": [
            "<ipython-input-14-a4819029beda>:2: PydanticDeprecatedSince20: The `dict` method is deprecated; use `model_dump` instead. Deprecated in Pydantic V2.0 to be removed in V3.0. See Pydantic V2 Migration Guide at https://errors.pydantic.dev/2.10/migration/\n",
            "  for k,v in response.dict().items():\n"
          ]
        }
      ]
    },
    {
      "cell_type": "code",
      "source": [
        "import pandas as pd\n",
        "\n",
        "pd.DataFrame(response.dict() for response in responses)"
      ],
      "metadata": {
        "colab": {
          "base_uri": "https://localhost:8080/",
          "height": 469
        },
        "id": "XBPPpqY0muHA",
        "outputId": "9d6cf12a-f75a-4a69-ab9c-d05aeb2784e5"
      },
      "execution_count": null,
      "outputs": [
        {
          "output_type": "stream",
          "name": "stderr",
          "text": [
            "<ipython-input-16-0eb6c96f9f40>:3: PydanticDeprecatedSince20: The `dict` method is deprecated; use `model_dump` instead. Deprecated in Pydantic V2.0 to be removed in V3.0. See Pydantic V2 Migration Guide at https://errors.pydantic.dev/2.10/migration/\n",
            "  pd.DataFrame(response.dict() for response in responses)\n"
          ]
        },
        {
          "output_type": "execute_result",
          "data": {
            "text/plain": [
              "                                             summary  \\\n",
              "0  Customer is extremely satisfied with the Bluet...   \n",
              "1  Customer is satisfied with the gaming keyboard...   \n",
              "2  Customer is disappointed with the wireless ear...   \n",
              "3  Customer is disappointed with the tablet stand...   \n",
              "4  The customer is dissatisfied with the kitchen ...   \n",
              "\n",
              "                                           positives  \\\n",
              "0  [Impressive sound quality with the right amoun...   \n",
              "1  [Keyboard's responsiveness, Vibrant LED colors...   \n",
              "2                          [Product arrived on time]   \n",
              "3                         [Product arrived promptly]   \n",
              "4                                                 []   \n",
              "\n",
              "                                           negatives sentiment  \\\n",
              "0                                                 []  positive   \n",
              "1                                                 []  positive   \n",
              "2  [Sound constantly cuts out, Uncomfortable fit,...  negative   \n",
              "3  [Stand is not sturdy, Angles are not holding u...  negative   \n",
              "4  [Struggles with anything tougher than cooked v...  negative   \n",
              "\n",
              "                                            emotions  \\\n",
              "0  [satisfaction, happiness, excitement, relief, ...   \n",
              "1             [satisfaction, happiness, contentment]   \n",
              "2  [disappointed, frustrated, uncomfortable, diss...   \n",
              "3            [disappointed, frustrated, unsatisfied]   \n",
              "4              [frustration, disappointment, regret]   \n",
              "\n",
              "                                               email  \n",
              "0  Dear Customer,\\n\\nThank you for your positive ...  \n",
              "1  Dear Customer,\\n\\nThank you for your positive ...  \n",
              "2  Dear Customer,\\n\\nWe are truly sorry to hear a...  \n",
              "3  Dear Customer,\\n\\nWe are truly sorry to hear a...  \n",
              "4  Dear Customer,\\n\\nWe are truly sorry to hear a...  "
            ],
            "text/html": [
              "\n",
              "  <div id=\"df-07357691-8b3d-493c-99cc-014328c842d5\" class=\"colab-df-container\">\n",
              "    <div>\n",
              "<style scoped>\n",
              "    .dataframe tbody tr th:only-of-type {\n",
              "        vertical-align: middle;\n",
              "    }\n",
              "\n",
              "    .dataframe tbody tr th {\n",
              "        vertical-align: top;\n",
              "    }\n",
              "\n",
              "    .dataframe thead th {\n",
              "        text-align: right;\n",
              "    }\n",
              "</style>\n",
              "<table border=\"1\" class=\"dataframe\">\n",
              "  <thead>\n",
              "    <tr style=\"text-align: right;\">\n",
              "      <th></th>\n",
              "      <th>summary</th>\n",
              "      <th>positives</th>\n",
              "      <th>negatives</th>\n",
              "      <th>sentiment</th>\n",
              "      <th>emotions</th>\n",
              "      <th>email</th>\n",
              "    </tr>\n",
              "  </thead>\n",
              "  <tbody>\n",
              "    <tr>\n",
              "      <th>0</th>\n",
              "      <td>Customer is extremely satisfied with the Bluet...</td>\n",
              "      <td>[Impressive sound quality with the right amoun...</td>\n",
              "      <td>[]</td>\n",
              "      <td>positive</td>\n",
              "      <td>[satisfaction, happiness, excitement, relief, ...</td>\n",
              "      <td>Dear Customer,\\n\\nThank you for your positive ...</td>\n",
              "    </tr>\n",
              "    <tr>\n",
              "      <th>1</th>\n",
              "      <td>Customer is satisfied with the gaming keyboard...</td>\n",
              "      <td>[Keyboard's responsiveness, Vibrant LED colors...</td>\n",
              "      <td>[]</td>\n",
              "      <td>positive</td>\n",
              "      <td>[satisfaction, happiness, contentment]</td>\n",
              "      <td>Dear Customer,\\n\\nThank you for your positive ...</td>\n",
              "    </tr>\n",
              "    <tr>\n",
              "      <th>2</th>\n",
              "      <td>Customer is disappointed with the wireless ear...</td>\n",
              "      <td>[Product arrived on time]</td>\n",
              "      <td>[Sound constantly cuts out, Uncomfortable fit,...</td>\n",
              "      <td>negative</td>\n",
              "      <td>[disappointed, frustrated, uncomfortable, diss...</td>\n",
              "      <td>Dear Customer,\\n\\nWe are truly sorry to hear a...</td>\n",
              "    </tr>\n",
              "    <tr>\n",
              "      <th>3</th>\n",
              "      <td>Customer is disappointed with the tablet stand...</td>\n",
              "      <td>[Product arrived promptly]</td>\n",
              "      <td>[Stand is not sturdy, Angles are not holding u...</td>\n",
              "      <td>negative</td>\n",
              "      <td>[disappointed, frustrated, unsatisfied]</td>\n",
              "      <td>Dear Customer,\\n\\nWe are truly sorry to hear a...</td>\n",
              "    </tr>\n",
              "    <tr>\n",
              "      <th>4</th>\n",
              "      <td>The customer is dissatisfied with the kitchen ...</td>\n",
              "      <td>[]</td>\n",
              "      <td>[Struggles with anything tougher than cooked v...</td>\n",
              "      <td>negative</td>\n",
              "      <td>[frustration, disappointment, regret]</td>\n",
              "      <td>Dear Customer,\\n\\nWe are truly sorry to hear a...</td>\n",
              "    </tr>\n",
              "  </tbody>\n",
              "</table>\n",
              "</div>\n",
              "    <div class=\"colab-df-buttons\">\n",
              "\n",
              "  <div class=\"colab-df-container\">\n",
              "    <button class=\"colab-df-convert\" onclick=\"convertToInteractive('df-07357691-8b3d-493c-99cc-014328c842d5')\"\n",
              "            title=\"Convert this dataframe to an interactive table.\"\n",
              "            style=\"display:none;\">\n",
              "\n",
              "  <svg xmlns=\"http://www.w3.org/2000/svg\" height=\"24px\" viewBox=\"0 -960 960 960\">\n",
              "    <path d=\"M120-120v-720h720v720H120Zm60-500h600v-160H180v160Zm220 220h160v-160H400v160Zm0 220h160v-160H400v160ZM180-400h160v-160H180v160Zm440 0h160v-160H620v160ZM180-180h160v-160H180v160Zm440 0h160v-160H620v160Z\"/>\n",
              "  </svg>\n",
              "    </button>\n",
              "\n",
              "  <style>\n",
              "    .colab-df-container {\n",
              "      display:flex;\n",
              "      gap: 12px;\n",
              "    }\n",
              "\n",
              "    .colab-df-convert {\n",
              "      background-color: #E8F0FE;\n",
              "      border: none;\n",
              "      border-radius: 50%;\n",
              "      cursor: pointer;\n",
              "      display: none;\n",
              "      fill: #1967D2;\n",
              "      height: 32px;\n",
              "      padding: 0 0 0 0;\n",
              "      width: 32px;\n",
              "    }\n",
              "\n",
              "    .colab-df-convert:hover {\n",
              "      background-color: #E2EBFA;\n",
              "      box-shadow: 0px 1px 2px rgba(60, 64, 67, 0.3), 0px 1px 3px 1px rgba(60, 64, 67, 0.15);\n",
              "      fill: #174EA6;\n",
              "    }\n",
              "\n",
              "    .colab-df-buttons div {\n",
              "      margin-bottom: 4px;\n",
              "    }\n",
              "\n",
              "    [theme=dark] .colab-df-convert {\n",
              "      background-color: #3B4455;\n",
              "      fill: #D2E3FC;\n",
              "    }\n",
              "\n",
              "    [theme=dark] .colab-df-convert:hover {\n",
              "      background-color: #434B5C;\n",
              "      box-shadow: 0px 1px 3px 1px rgba(0, 0, 0, 0.15);\n",
              "      filter: drop-shadow(0px 1px 2px rgba(0, 0, 0, 0.3));\n",
              "      fill: #FFFFFF;\n",
              "    }\n",
              "  </style>\n",
              "\n",
              "    <script>\n",
              "      const buttonEl =\n",
              "        document.querySelector('#df-07357691-8b3d-493c-99cc-014328c842d5 button.colab-df-convert');\n",
              "      buttonEl.style.display =\n",
              "        google.colab.kernel.accessAllowed ? 'block' : 'none';\n",
              "\n",
              "      async function convertToInteractive(key) {\n",
              "        const element = document.querySelector('#df-07357691-8b3d-493c-99cc-014328c842d5');\n",
              "        const dataTable =\n",
              "          await google.colab.kernel.invokeFunction('convertToInteractive',\n",
              "                                                    [key], {});\n",
              "        if (!dataTable) return;\n",
              "\n",
              "        const docLinkHtml = 'Like what you see? Visit the ' +\n",
              "          '<a target=\"_blank\" href=https://colab.research.google.com/notebooks/data_table.ipynb>data table notebook</a>'\n",
              "          + ' to learn more about interactive tables.';\n",
              "        element.innerHTML = '';\n",
              "        dataTable['output_type'] = 'display_data';\n",
              "        await google.colab.output.renderOutput(dataTable, element);\n",
              "        const docLink = document.createElement('div');\n",
              "        docLink.innerHTML = docLinkHtml;\n",
              "        element.appendChild(docLink);\n",
              "      }\n",
              "    </script>\n",
              "  </div>\n",
              "\n",
              "\n",
              "<div id=\"df-a5c4a986-4d5f-4abf-b404-57d45b57b5b0\">\n",
              "  <button class=\"colab-df-quickchart\" onclick=\"quickchart('df-a5c4a986-4d5f-4abf-b404-57d45b57b5b0')\"\n",
              "            title=\"Suggest charts\"\n",
              "            style=\"display:none;\">\n",
              "\n",
              "<svg xmlns=\"http://www.w3.org/2000/svg\" height=\"24px\"viewBox=\"0 0 24 24\"\n",
              "     width=\"24px\">\n",
              "    <g>\n",
              "        <path d=\"M19 3H5c-1.1 0-2 .9-2 2v14c0 1.1.9 2 2 2h14c1.1 0 2-.9 2-2V5c0-1.1-.9-2-2-2zM9 17H7v-7h2v7zm4 0h-2V7h2v10zm4 0h-2v-4h2v4z\"/>\n",
              "    </g>\n",
              "</svg>\n",
              "  </button>\n",
              "\n",
              "<style>\n",
              "  .colab-df-quickchart {\n",
              "      --bg-color: #E8F0FE;\n",
              "      --fill-color: #1967D2;\n",
              "      --hover-bg-color: #E2EBFA;\n",
              "      --hover-fill-color: #174EA6;\n",
              "      --disabled-fill-color: #AAA;\n",
              "      --disabled-bg-color: #DDD;\n",
              "  }\n",
              "\n",
              "  [theme=dark] .colab-df-quickchart {\n",
              "      --bg-color: #3B4455;\n",
              "      --fill-color: #D2E3FC;\n",
              "      --hover-bg-color: #434B5C;\n",
              "      --hover-fill-color: #FFFFFF;\n",
              "      --disabled-bg-color: #3B4455;\n",
              "      --disabled-fill-color: #666;\n",
              "  }\n",
              "\n",
              "  .colab-df-quickchart {\n",
              "    background-color: var(--bg-color);\n",
              "    border: none;\n",
              "    border-radius: 50%;\n",
              "    cursor: pointer;\n",
              "    display: none;\n",
              "    fill: var(--fill-color);\n",
              "    height: 32px;\n",
              "    padding: 0;\n",
              "    width: 32px;\n",
              "  }\n",
              "\n",
              "  .colab-df-quickchart:hover {\n",
              "    background-color: var(--hover-bg-color);\n",
              "    box-shadow: 0 1px 2px rgba(60, 64, 67, 0.3), 0 1px 3px 1px rgba(60, 64, 67, 0.15);\n",
              "    fill: var(--button-hover-fill-color);\n",
              "  }\n",
              "\n",
              "  .colab-df-quickchart-complete:disabled,\n",
              "  .colab-df-quickchart-complete:disabled:hover {\n",
              "    background-color: var(--disabled-bg-color);\n",
              "    fill: var(--disabled-fill-color);\n",
              "    box-shadow: none;\n",
              "  }\n",
              "\n",
              "  .colab-df-spinner {\n",
              "    border: 2px solid var(--fill-color);\n",
              "    border-color: transparent;\n",
              "    border-bottom-color: var(--fill-color);\n",
              "    animation:\n",
              "      spin 1s steps(1) infinite;\n",
              "  }\n",
              "\n",
              "  @keyframes spin {\n",
              "    0% {\n",
              "      border-color: transparent;\n",
              "      border-bottom-color: var(--fill-color);\n",
              "      border-left-color: var(--fill-color);\n",
              "    }\n",
              "    20% {\n",
              "      border-color: transparent;\n",
              "      border-left-color: var(--fill-color);\n",
              "      border-top-color: var(--fill-color);\n",
              "    }\n",
              "    30% {\n",
              "      border-color: transparent;\n",
              "      border-left-color: var(--fill-color);\n",
              "      border-top-color: var(--fill-color);\n",
              "      border-right-color: var(--fill-color);\n",
              "    }\n",
              "    40% {\n",
              "      border-color: transparent;\n",
              "      border-right-color: var(--fill-color);\n",
              "      border-top-color: var(--fill-color);\n",
              "    }\n",
              "    60% {\n",
              "      border-color: transparent;\n",
              "      border-right-color: var(--fill-color);\n",
              "    }\n",
              "    80% {\n",
              "      border-color: transparent;\n",
              "      border-right-color: var(--fill-color);\n",
              "      border-bottom-color: var(--fill-color);\n",
              "    }\n",
              "    90% {\n",
              "      border-color: transparent;\n",
              "      border-bottom-color: var(--fill-color);\n",
              "    }\n",
              "  }\n",
              "</style>\n",
              "\n",
              "  <script>\n",
              "    async function quickchart(key) {\n",
              "      const quickchartButtonEl =\n",
              "        document.querySelector('#' + key + ' button');\n",
              "      quickchartButtonEl.disabled = true;  // To prevent multiple clicks.\n",
              "      quickchartButtonEl.classList.add('colab-df-spinner');\n",
              "      try {\n",
              "        const charts = await google.colab.kernel.invokeFunction(\n",
              "            'suggestCharts', [key], {});\n",
              "      } catch (error) {\n",
              "        console.error('Error during call to suggestCharts:', error);\n",
              "      }\n",
              "      quickchartButtonEl.classList.remove('colab-df-spinner');\n",
              "      quickchartButtonEl.classList.add('colab-df-quickchart-complete');\n",
              "    }\n",
              "    (() => {\n",
              "      let quickchartButtonEl =\n",
              "        document.querySelector('#df-a5c4a986-4d5f-4abf-b404-57d45b57b5b0 button');\n",
              "      quickchartButtonEl.style.display =\n",
              "        google.colab.kernel.accessAllowed ? 'block' : 'none';\n",
              "    })();\n",
              "  </script>\n",
              "</div>\n",
              "\n",
              "    </div>\n",
              "  </div>\n"
            ],
            "application/vnd.google.colaboratory.intrinsic+json": {
              "type": "dataframe",
              "summary": "{\n  \"name\": \"pd\",\n  \"rows\": 5,\n  \"fields\": [\n    {\n      \"column\": \"summary\",\n      \"properties\": {\n        \"dtype\": \"string\",\n        \"num_unique_values\": 5,\n        \"samples\": [\n          \"Customer is satisfied with the gaming keyboard they purchased due to its responsiveness, vibrant LED colors, and competitive price. They also appreciated the swift and secure delivery.\",\n          \"The customer is dissatisfied with the kitchen blender they purchased, citing issues with its performance, noise level, cleaning difficulty, and late delivery.\",\n          \"Customer is disappointed with the wireless earbuds they ordered for running due to poor sound quality, uncomfortable fit, and short battery life.\"\n        ],\n        \"semantic_type\": \"\",\n        \"description\": \"\"\n      }\n    },\n    {\n      \"column\": \"positives\",\n      \"properties\": {\n        \"dtype\": \"object\",\n        \"semantic_type\": \"\",\n        \"description\": \"\"\n      }\n    },\n    {\n      \"column\": \"negatives\",\n      \"properties\": {\n        \"dtype\": \"object\",\n        \"semantic_type\": \"\",\n        \"description\": \"\"\n      }\n    },\n    {\n      \"column\": \"sentiment\",\n      \"properties\": {\n        \"dtype\": \"category\",\n        \"num_unique_values\": 2,\n        \"samples\": [\n          \"negative\",\n          \"positive\"\n        ],\n        \"semantic_type\": \"\",\n        \"description\": \"\"\n      }\n    },\n    {\n      \"column\": \"emotions\",\n      \"properties\": {\n        \"dtype\": \"object\",\n        \"semantic_type\": \"\",\n        \"description\": \"\"\n      }\n    },\n    {\n      \"column\": \"email\",\n      \"properties\": {\n        \"dtype\": \"string\",\n        \"num_unique_values\": 5,\n        \"samples\": [\n          \"Dear Customer,\\n\\nThank you for your positive review. We are thrilled to hear that you are satisfied with your new gaming keyboard and that it has enhanced your gaming experience. We are also glad to know that you found the price competitive and appreciated the swift and secure delivery. We strive to provide our customers with high-quality products and excellent service. Your feedback is greatly appreciated and will help us to continue to improve our services.\\n\\nBest Regards,\\nService Agent\",\n          \"Dear Customer,\\n\\nWe are truly sorry to hear about your negative experience with our kitchen blender. We understand your frustration and disappointment, especially since you expected a high-quality product from our brand. We apologize for the issues you've encountered, including the blender's performance, noise level, and cleaning difficulty, as well as the late delivery. We value your feedback and will take it into account as we strive to improve our products and services. We hope to have the opportunity to serve you better in the future.\\n\\nBest Regards,\\nService Agent\"\n        ],\n        \"semantic_type\": \"\",\n        \"description\": \"\"\n      }\n    }\n  ]\n}"
            }
          },
          "metadata": {},
          "execution_count": 16
        }
      ]
    },
    {
      "cell_type": "markdown",
      "source": [
        "## **Mini-Project 2: Research Paper Analyst**\n",
        "\n",
        "Here we will make ChatGPT act as an AI expert and transform the given research paper abstract based on the nature of the audience mentioned below.\n",
        "\n",
        "- Short summary of maximum 10 lines for a general audience\n",
        "- Detailed report for a healthcare company. Have bullet points for pros and cons of ethics in Generative AI as mentioned in the paper\n",
        "- Detailed report for a generative AI company solving healthcare problems. Have bullet points for key points mentioned for Generative AI for text, images and structured data based healthcare\n",
        "\n",
        "We will try to use `ChatPromptTemplate` so you can have a conversation with ChatGPT for each of the above tasks using conversational prompting"
      ],
      "metadata": {
        "id": "DN6FKSvZnKeG"
      }
    },
    {
      "cell_type": "markdown",
      "source": [
        "### **Access research paper abstract**"
      ],
      "metadata": {
        "id": "Et7t2Xkqnfob"
      }
    },
    {
      "cell_type": "code",
      "source": [
        "paper_abstract = f\"\"\"\n",
        "The widespread use of ChatGPT and other emerging technology powered by generative\n",
        "artificial intelligence (AI) has drawn much attention to potential ethical issues, especially in\n",
        "high-stakes applications such as healthcare.1–3 However, less clear is how to resolve such\n",
        "issues beyond following guidelines and regulations that are still under discussion and\n",
        "development. On the other hand, other types of generative AI have been used to synthesize\n",
        "images and other types of data for research and practical purposes, which have resolved some\n",
        "ethical issues and exposed other ethical issues,4,5 but such technology is less often the focus\n",
        "of ongoing ethical discussions. Here we highlight gaps in current ethical discussions of\n",
        "generative AI via a systematic scoping review of relevant existing research in healthcare, and\n",
        "reduce the gaps by proposing an ethics checklist for comprehensive assessment and\n",
        "transparent documentation of ethical discussions in generative AI development. While the\n",
        "checklist can be readily integrated into the current peer review and publication system to\n",
        "enhance generative AI research, it may also be used in broader settings to disclose ethicsrelated considerations in generative AI-powered products (or real-life applications of such\n",
        "products) to help users establish reasonable trust in their capabilities.\n",
        "\n",
        "Current ethical discussions on generative AI in healthcare\n",
        "We conducted a systematic scoping review to analyse current ethical discussions on\n",
        "generative AI in healthcare. Our search in four major academic research databases for\n",
        "relevant publications from January 2013 to July 2023 yielded 2859 articles (see Methods for\n",
        "detailed search strategy and Supplementary Figure S1 for the PRISMA flow diagram), of\n",
        "which 193 articles were included for analysis based on application data modality (text, image,\n",
        "or structured data), ethical issues discussed, generative AI involved, and whether generative\n",
        "AI causes or offers technical solutions for issues raised.\n",
        "\n",
        "Generative AI for text data-based healthcare\n",
        "Forty-one of the 193 articles discussed ethical considerations pertaining to generative AI\n",
        "applications for text data, with 20 articles describing methodological developments or\n",
        "applications of generative AI and the other 21 articles describing review-type works on this\n",
        "topic. Although some of these review-type articles used the general term “generative AI”, the\n",
        "main body and supporting evidence focused on LLMs. Twenty-nine articles had in-depth\n",
        "discussions on ethical issues, whereas the other 12 articles only briefly touched on some\n",
        "ethical aspects.\n",
        "Among the 41 articles, 29 articles focused on discussing ethical issues caused by LLMs (and\n",
        "specifically by GPT in 16 of the articles), covering a wide range of application scenarios and\n",
        "considered the application of all 10 ethical principles identified in the review (see Figure 1),\n",
        "as well as other less discussed concerns such as human-AI interaction, and the rights of\n",
        "LLMs to be considered as co-authors in scientific papers. One paper only commented briefly\n",
        "on the need for ethical considerations in LLMs and is summarised in the “Others” category.\n",
        "Although all ethical principles are equally important, some are discussed more often than\n",
        "others, e.g., non-maleficence (also referred to in the literature as ‘benevolence’), equity, and\n",
        "privacy.\n",
        "Fifteen of the 41 articles aimed to resolve some existing ethical issues (for example,\n",
        "confidentiality of medical data) by using LLMs and other generative AI (e.g., GAN,\n",
        "autoencoder or diffusion), such as, to reduce privacy concerns by generating synthetic\n",
        "medical text, to reduce disparity by providing accessible services and assistance, to detect\n",
        "health-related misinformation, to generate trusted content, and to improve accountability or\n",
        "transparency over existing approaches. While most articles focused on either identifying\n",
        "ethical issues caused by generative AI or proposing generative AI-based solutions, three\n",
        "articles discussed both to provide a more balanced perspective.\n",
        "\n",
        "Generative AI for image and structured data-based healthcare\n",
        "Unlike the diverse application scenarios of generative AI based on text data, for image and\n",
        "structured data, this use of generative AI focuses on data synthesis and encryption. Hence the\n",
        "majority of articles discussed the methodological developments of generative AI as giving\n",
        "rise to a more distinctive and focused set of ethical issues.\n",
        "5\n",
        "Notably, of the 98 articles on image data and 58 articles on structured data, more than half\n",
        "(n=63 for image data and n=33 for structured data) only mentioned ethical considerations as a\n",
        "brief motivation for methodological developments or as a general discussion point. The rest\n",
        "included more in-depth discussions or evaluations of ethical issues. Among these 155 articles\n",
        "(as one article covered multiple modalities), 11 articles were review-type work, where 10\n",
        "articles reviewed methods that mentioned one or two ethical perspectives, and only one\n",
        "article24 discussed detailed ethical concerns on generative AI applications.\n",
        "Resolving privacy issues was the main aim of articles for these two data modalities (n=74 for\n",
        "image data and n=50 for structured data; see Figure 1), predominantly by generating synthetic\n",
        "data using GAN. Eight articles on image data and 9 articles on structured data used\n",
        "generative AI to reduce bias, e.g., by synthesizing data for under-represented subgroups in\n",
        "existing databases. For both data modalities, we did not see explicit discussions on resolving\n",
        "autonomy, integrity, or morality issues using generative AI, and for structured data the articles\n",
        "additionally lacked discussions on trust or transparency.\n",
        "Only 11 articles for image data selectively discussed some ethical issues that generative AI\n",
        "can give rise to, without specific discussions regarding autonomy, integrity, or morality. For\n",
        "structured data, only 4 articles discussed equity, privacy, or data security issues caused by\n",
        "generative AI. Only two articles on structured data included both the cause and resolving\n",
        "perspectives by discussing ethical issues that may arise from limitations of methods\n",
        "proposed, specifically bias induced when synthesizing data in order to resolve privacy issues.\n",
        "\"\"\""
      ],
      "metadata": {
        "id": "-NLwSjUbm2ci"
      },
      "execution_count": null,
      "outputs": []
    },
    {
      "cell_type": "markdown",
      "source": [
        "### **Creation of prompt template for paper analysis and transformation**"
      ],
      "metadata": {
        "id": "j10jlJbGntwh"
      }
    },
    {
      "cell_type": "code",
      "source": [
        "SYS_PROMPT = \"\"\"\n",
        "Act as a Artificial Intelligence Expert.\n",
        "Transform the input research paper abstract given below\n",
        "based on the instruction input by the user.\n",
        "\"\"\"\n",
        "prompt = ChatPromptTemplate.from_messages(\n",
        "    [\n",
        "        (\"system\", SYS_PROMPT),\n",
        "        (\"human\", \"{instruction}\"),\n",
        "    ]\n",
        ")"
      ],
      "metadata": {
        "id": "9-RjLaZ8nr1n"
      },
      "execution_count": null,
      "outputs": []
    },
    {
      "cell_type": "markdown",
      "source": [
        "### **Create a simple LCEL LLM Chain**\n"
      ],
      "metadata": {
        "id": "Dh5QnfC4n5cQ"
      }
    },
    {
      "cell_type": "code",
      "source": [
        "chain = (prompt\n",
        "            |\n",
        "         chatgpt)"
      ],
      "metadata": {
        "id": "-YCRqh7vn9br"
      },
      "execution_count": null,
      "outputs": []
    },
    {
      "cell_type": "markdown",
      "source": [
        "### **Generate first summary report**"
      ],
      "metadata": {
        "id": "lpfxsiV9oDQp"
      }
    },
    {
      "cell_type": "code",
      "source": [
        "from langchain_core.messages import HumanMessage\n",
        "\n",
        "prompt_txt = f\"\"\"\n",
        "Based on the following research paper abstract,\n",
        "create the summary report of maximum 10 lines\n",
        "for a general audience\n",
        "\n",
        "Abstract:\n",
        "{paper_abstract}\n",
        "\"\"\"\n",
        "messages = [HumanMessage(content=prompt_txt)]\n",
        "user_instruction = {'instruction': messages}\n",
        "\n",
        "response = chain.invoke(user_instruction)\n",
        "messages.append(response)"
      ],
      "metadata": {
        "id": "04zR0pAioKaA"
      },
      "execution_count": null,
      "outputs": []
    },
    {
      "cell_type": "code",
      "source": [
        "print(response.content)"
      ],
      "metadata": {
        "colab": {
          "base_uri": "https://localhost:8080/"
        },
        "id": "zAVJf_BdoM4H",
        "outputId": "e82bb9c3-ef7f-4cca-c787-5b5ce79467ca"
      },
      "execution_count": null,
      "outputs": [
        {
          "output_type": "stream",
          "name": "stdout",
          "text": [
            "The increasing use of AI technologies like ChatGPT in fields like healthcare has raised ethical concerns. However, there is a lack of clarity on how to address these issues beyond existing guidelines and regulations. This study proposes an ethics checklist for assessing and documenting ethical discussions in AI development. The researchers conducted a review of current ethical discussions on AI in healthcare, analyzing 193 articles from 2013 to 2023. They found that while some articles discussed ethical issues caused by AI, others proposed AI-based solutions. The study also found that privacy, equity, and non-maleficence were the most discussed ethical principles. The proposed checklist can be integrated into the peer review and publication system to enhance AI research and can also be used to disclose ethical considerations in AI-powered products.\n"
          ]
        }
      ]
    },
    {
      "cell_type": "code",
      "source": [
        "response.content"
      ],
      "metadata": {
        "colab": {
          "base_uri": "https://localhost:8080/",
          "height": 157
        },
        "id": "v8Qs91dJoPWv",
        "outputId": "0d10b90d-e194-42ea-db62-c4c75ef54299"
      },
      "execution_count": null,
      "outputs": [
        {
          "output_type": "execute_result",
          "data": {
            "text/plain": [
              "'The increasing use of AI technologies like ChatGPT in fields like healthcare has raised ethical concerns. However, there is a lack of clarity on how to address these issues beyond existing guidelines and regulations. This study proposes an ethics checklist for assessing and documenting ethical discussions in AI development. The researchers conducted a review of current ethical discussions on AI in healthcare, analyzing 193 articles from 2013 to 2023. They found that while some articles discussed ethical issues caused by AI, others proposed AI-based solutions. The study also found that privacy, equity, and non-maleficence were the most discussed ethical principles. The proposed checklist can be integrated into the peer review and publication system to enhance AI research and can also be used to disclose ethical considerations in AI-powered products.'"
            ],
            "application/vnd.google.colaboratory.intrinsic+json": {
              "type": "string"
            }
          },
          "metadata": {},
          "execution_count": 22
        }
      ]
    },
    {
      "cell_type": "code",
      "source": [
        "messages"
      ],
      "metadata": {
        "colab": {
          "base_uri": "https://localhost:8080/"
        },
        "id": "RUCVDhVeoRmk",
        "outputId": "bb7b740e-058c-452a-c09e-29761bff8706",
        "collapsed": true
      },
      "execution_count": null,
      "outputs": [
        {
          "output_type": "execute_result",
          "data": {
            "text/plain": [
              "[HumanMessage(content='\\nBased on the following research paper abstract,\\ncreate the summary report of maximum 10 lines\\nfor a general audience\\n\\nAbstract:\\n\\nThe widespread use of ChatGPT and other emerging technology powered by generative\\nartificial intelligence (AI) has drawn much attention to potential ethical issues, especially in\\nhigh-stakes applications such as healthcare.1–3 However, less clear is how to resolve such\\nissues beyond following guidelines and regulations that are still under discussion and\\ndevelopment. On the other hand, other types of generative AI have been used to synthesize\\nimages and other types of data for research and practical purposes, which have resolved some\\nethical issues and exposed other ethical issues,4,5 but such technology is less often the focus\\nof ongoing ethical discussions. Here we highlight gaps in current ethical discussions of\\ngenerative AI via a systematic scoping review of relevant existing research in healthcare, and\\nreduce the gaps by proposing an ethics checklist for comprehensive assessment and\\ntransparent documentation of ethical discussions in generative AI development. While the\\nchecklist can be readily integrated into the current peer review and publication system to\\nenhance generative AI research, it may also be used in broader settings to disclose ethicsrelated considerations in generative AI-powered products (or real-life applications of such\\nproducts) to help users establish reasonable trust in their capabilities.\\n\\nCurrent ethical discussions on generative AI in healthcare\\nWe conducted a systematic scoping review to analyse current ethical discussions on\\ngenerative AI in healthcare. Our search in four major academic research databases for\\nrelevant publications from January 2013 to July 2023 yielded 2859 articles (see Methods for\\ndetailed search strategy and Supplementary Figure S1 for the PRISMA flow diagram), of\\nwhich 193 articles were included for analysis based on application data modality (text, image,\\nor structured data), ethical issues discussed, generative AI involved, and whether generative\\nAI causes or offers technical solutions for issues raised.\\n\\nGenerative AI for text data-based healthcare\\nForty-one of the 193 articles discussed ethical considerations pertaining to generative AI\\napplications for text data, with 20 articles describing methodological developments or\\napplications of generative AI and the other 21 articles describing review-type works on this\\ntopic. Although some of these review-type articles used the general term “generative AI”, the\\nmain body and supporting evidence focused on LLMs. Twenty-nine articles had in-depth\\ndiscussions on ethical issues, whereas the other 12 articles only briefly touched on some\\nethical aspects.\\nAmong the 41 articles, 29 articles focused on discussing ethical issues caused by LLMs (and\\nspecifically by GPT in 16 of the articles), covering a wide range of application scenarios and\\nconsidered the application of all 10 ethical principles identified in the review (see Figure 1),\\nas well as other less discussed concerns such as human-AI interaction, and the rights of\\nLLMs to be considered as co-authors in scientific papers. One paper only commented briefly\\non the need for ethical considerations in LLMs and is summarised in the “Others” category.\\nAlthough all ethical principles are equally important, some are discussed more often than\\nothers, e.g., non-maleficence (also referred to in the literature as ‘benevolence’), equity, and\\nprivacy.\\nFifteen of the 41 articles aimed to resolve some existing ethical issues (for example,\\nconfidentiality of medical data) by using LLMs and other generative AI (e.g., GAN,\\nautoencoder or diffusion), such as, to reduce privacy concerns by generating synthetic\\nmedical text, to reduce disparity by providing accessible services and assistance, to detect\\nhealth-related misinformation, to generate trusted content, and to improve accountability or\\ntransparency over existing approaches. While most articles focused on either identifying\\nethical issues caused by generative AI or proposing generative AI-based solutions, three\\narticles discussed both to provide a more balanced perspective.\\n\\nGenerative AI for image and structured data-based healthcare\\nUnlike the diverse application scenarios of generative AI based on text data, for image and\\nstructured data, this use of generative AI focuses on data synthesis and encryption. Hence the\\nmajority of articles discussed the methodological developments of generative AI as giving\\nrise to a more distinctive and focused set of ethical issues.\\n5\\nNotably, of the 98 articles on image data and 58 articles on structured data, more than half\\n(n=63 for image data and n=33 for structured data) only mentioned ethical considerations as a\\nbrief motivation for methodological developments or as a general discussion point. The rest\\nincluded more in-depth discussions or evaluations of ethical issues. Among these 155 articles\\n(as one article covered multiple modalities), 11 articles were review-type work, where 10\\narticles reviewed methods that mentioned one or two ethical perspectives, and only one\\narticle24 discussed detailed ethical concerns on generative AI applications.\\nResolving privacy issues was the main aim of articles for these two data modalities (n=74 for\\nimage data and n=50 for structured data; see Figure 1), predominantly by generating synthetic\\ndata using GAN. Eight articles on image data and 9 articles on structured data used\\ngenerative AI to reduce bias, e.g., by synthesizing data for under-represented subgroups in\\nexisting databases. For both data modalities, we did not see explicit discussions on resolving\\nautonomy, integrity, or morality issues using generative AI, and for structured data the articles\\nadditionally lacked discussions on trust or transparency.\\nOnly 11 articles for image data selectively discussed some ethical issues that generative AI\\ncan give rise to, without specific discussions regarding autonomy, integrity, or morality. For\\nstructured data, only 4 articles discussed equity, privacy, or data security issues caused by\\ngenerative AI. Only two articles on structured data included both the cause and resolving\\nperspectives by discussing ethical issues that may arise from limitations of methods\\nproposed, specifically bias induced when synthesizing data in order to resolve privacy issues.\\n\\n', additional_kwargs={}, response_metadata={}),\n",
              " AIMessage(content='The increasing use of AI technologies like ChatGPT in fields like healthcare has raised ethical concerns. However, there is a lack of clarity on how to address these issues beyond existing guidelines and regulations. This study proposes an ethics checklist for assessing and documenting ethical discussions in AI development. The researchers conducted a review of current ethical discussions on AI in healthcare, analyzing 193 articles from 2013 to 2023. They found that while some articles discussed ethical issues caused by AI, others proposed AI-based solutions. The study also found that privacy, equity, and non-maleficence were the most discussed ethical principles. The proposed checklist can be integrated into the peer review and publication system to enhance AI research and can also be used to disclose ethical considerations in AI-powered products.', additional_kwargs={'refusal': None}, response_metadata={'token_usage': {'completion_tokens': 155, 'prompt_tokens': 1329, 'total_tokens': 1484, 'completion_tokens_details': {'accepted_prediction_tokens': 0, 'audio_tokens': 0, 'reasoning_tokens': 0, 'rejected_prediction_tokens': 0}, 'prompt_tokens_details': {'audio_tokens': 0, 'cached_tokens': 0}}, 'model_name': 'gpt-4-0613', 'system_fingerprint': None, 'finish_reason': 'stop', 'logprobs': None}, id='run-506a22d6-8288-4a2c-908e-29f48368c8e4-0', usage_metadata={'input_tokens': 1329, 'output_tokens': 155, 'total_tokens': 1484, 'input_token_details': {'audio': 0, 'cache_read': 0}, 'output_token_details': {'audio': 0, 'reasoning': 0}})]"
            ]
          },
          "metadata": {},
          "execution_count": 23
        }
      ]
    },
    {
      "cell_type": "markdown",
      "source": [
        "### **Generate second summary report**"
      ],
      "metadata": {
        "id": "2pZEuRdgoWF6"
      }
    },
    {
      "cell_type": "markdown",
      "source": [
        "Here we will add previous LLM response and the new instructions to the list of messages and send the whole thing to LLM so it has access to the overall historical conversation"
      ],
      "metadata": {
        "id": "d_vl3URvoeWj"
      }
    },
    {
      "cell_type": "code",
      "source": [
        "prompt_txt = f\"\"\"\n",
        "Use only the research paper abstract from earlier and create a detailed report for a healthcare company.\n",
        "In the report, also include bullet points (3 max) for pros and cons of ethics in Generative AI\n",
        "\"\"\"\n",
        "messages.append(HumanMessage(content=prompt_txt))\n",
        "user_instruction = {'instruction': messages}\n",
        "response = chain.invoke(user_instruction)\n",
        "messages.append(response)"
      ],
      "metadata": {
        "id": "GDLwXrudocCo"
      },
      "execution_count": null,
      "outputs": []
    },
    {
      "cell_type": "code",
      "source": [
        "print(response.content)"
      ],
      "metadata": {
        "colab": {
          "base_uri": "https://localhost:8080/"
        },
        "id": "CfH5ddPCosSV",
        "outputId": "41a20bc9-4c66-4775-d7de-23c8eb55fab5"
      },
      "execution_count": null,
      "outputs": [
        {
          "output_type": "stream",
          "name": "stdout",
          "text": [
            "Subject: Detailed Report on Ethical Considerations in Generative AI for Healthcare\n",
            "\n",
            "Dear Team,\n",
            "\n",
            "This report is based on a recent research paper that focuses on the ethical considerations in the use of generative Artificial Intelligence (AI) in healthcare. The study highlights the increasing use of AI technologies, such as ChatGPT, and the ethical issues that arise from their application, particularly in high-stakes fields like healthcare.\n",
            "\n",
            "The research paper proposes an ethics checklist as a solution to these ethical dilemmas. This checklist is designed for comprehensive assessment and transparent documentation of ethical discussions during the development of generative AI. It can be integrated into the current peer review and publication system to enhance AI research. Furthermore, it can be used in broader settings to disclose ethical considerations in AI-powered products, thereby helping users establish reasonable trust in their capabilities.\n",
            "\n",
            "The researchers conducted a systematic scoping review of current ethical discussions on generative AI in healthcare. They analyzed 193 articles from January 2013 to July 2023. The review revealed that while some articles discussed ethical issues caused by AI, others proposed AI-based solutions. The most discussed ethical principles were privacy, equity, and non-maleficence.\n",
            "\n",
            "Pros of Ethics in Generative AI:\n",
            "1. Enhances Trust: Ethical considerations can help users establish reasonable trust in AI capabilities.\n",
            "2. Promotes Equity: Ethical guidelines can ensure that AI technologies are used fairly and equitably.\n",
            "3. Protects Privacy: Ethical considerations can help address privacy concerns in AI applications.\n",
            "\n",
            "Cons of Ethics in Generative AI:\n",
            "1. Lack of Clarity: There is a lack of clarity on how to address ethical issues beyond existing guidelines and regulations.\n",
            "2. Evolving Discussions: Ethical discussions on generative AI are still ongoing, and consensus on many issues has not been reached.\n",
            "3. Potential for Misuse: Despite ethical guidelines, there is always a risk of misuse of AI technologies, leading to potential ethical breaches.\n",
            "\n",
            "The research paper underscores the importance of ongoing ethical discussions and the need for comprehensive guidelines to address potential ethical issues in the use of generative AI in healthcare.\n",
            "\n",
            "Best Regards,\n",
            "[Your Name]\n"
          ]
        }
      ]
    },
    {
      "cell_type": "code",
      "source": [
        "messages"
      ],
      "metadata": {
        "colab": {
          "base_uri": "https://localhost:8080/"
        },
        "id": "ADfCuqqxoula",
        "outputId": "bf270b33-b228-4849-d359-1d6362d42fdf",
        "collapsed": true
      },
      "execution_count": null,
      "outputs": [
        {
          "output_type": "execute_result",
          "data": {
            "text/plain": [
              "[HumanMessage(content='\\nBased on the following research paper abstract,\\ncreate the summary report of maximum 10 lines\\nfor a general audience\\n\\nAbstract:\\n\\nThe widespread use of ChatGPT and other emerging technology powered by generative\\nartificial intelligence (AI) has drawn much attention to potential ethical issues, especially in\\nhigh-stakes applications such as healthcare.1–3 However, less clear is how to resolve such\\nissues beyond following guidelines and regulations that are still under discussion and\\ndevelopment. On the other hand, other types of generative AI have been used to synthesize\\nimages and other types of data for research and practical purposes, which have resolved some\\nethical issues and exposed other ethical issues,4,5 but such technology is less often the focus\\nof ongoing ethical discussions. Here we highlight gaps in current ethical discussions of\\ngenerative AI via a systematic scoping review of relevant existing research in healthcare, and\\nreduce the gaps by proposing an ethics checklist for comprehensive assessment and\\ntransparent documentation of ethical discussions in generative AI development. While the\\nchecklist can be readily integrated into the current peer review and publication system to\\nenhance generative AI research, it may also be used in broader settings to disclose ethicsrelated considerations in generative AI-powered products (or real-life applications of such\\nproducts) to help users establish reasonable trust in their capabilities.\\n\\nCurrent ethical discussions on generative AI in healthcare\\nWe conducted a systematic scoping review to analyse current ethical discussions on\\ngenerative AI in healthcare. Our search in four major academic research databases for\\nrelevant publications from January 2013 to July 2023 yielded 2859 articles (see Methods for\\ndetailed search strategy and Supplementary Figure S1 for the PRISMA flow diagram), of\\nwhich 193 articles were included for analysis based on application data modality (text, image,\\nor structured data), ethical issues discussed, generative AI involved, and whether generative\\nAI causes or offers technical solutions for issues raised.\\n\\nGenerative AI for text data-based healthcare\\nForty-one of the 193 articles discussed ethical considerations pertaining to generative AI\\napplications for text data, with 20 articles describing methodological developments or\\napplications of generative AI and the other 21 articles describing review-type works on this\\ntopic. Although some of these review-type articles used the general term “generative AI”, the\\nmain body and supporting evidence focused on LLMs. Twenty-nine articles had in-depth\\ndiscussions on ethical issues, whereas the other 12 articles only briefly touched on some\\nethical aspects.\\nAmong the 41 articles, 29 articles focused on discussing ethical issues caused by LLMs (and\\nspecifically by GPT in 16 of the articles), covering a wide range of application scenarios and\\nconsidered the application of all 10 ethical principles identified in the review (see Figure 1),\\nas well as other less discussed concerns such as human-AI interaction, and the rights of\\nLLMs to be considered as co-authors in scientific papers. One paper only commented briefly\\non the need for ethical considerations in LLMs and is summarised in the “Others” category.\\nAlthough all ethical principles are equally important, some are discussed more often than\\nothers, e.g., non-maleficence (also referred to in the literature as ‘benevolence’), equity, and\\nprivacy.\\nFifteen of the 41 articles aimed to resolve some existing ethical issues (for example,\\nconfidentiality of medical data) by using LLMs and other generative AI (e.g., GAN,\\nautoencoder or diffusion), such as, to reduce privacy concerns by generating synthetic\\nmedical text, to reduce disparity by providing accessible services and assistance, to detect\\nhealth-related misinformation, to generate trusted content, and to improve accountability or\\ntransparency over existing approaches. While most articles focused on either identifying\\nethical issues caused by generative AI or proposing generative AI-based solutions, three\\narticles discussed both to provide a more balanced perspective.\\n\\nGenerative AI for image and structured data-based healthcare\\nUnlike the diverse application scenarios of generative AI based on text data, for image and\\nstructured data, this use of generative AI focuses on data synthesis and encryption. Hence the\\nmajority of articles discussed the methodological developments of generative AI as giving\\nrise to a more distinctive and focused set of ethical issues.\\n5\\nNotably, of the 98 articles on image data and 58 articles on structured data, more than half\\n(n=63 for image data and n=33 for structured data) only mentioned ethical considerations as a\\nbrief motivation for methodological developments or as a general discussion point. The rest\\nincluded more in-depth discussions or evaluations of ethical issues. Among these 155 articles\\n(as one article covered multiple modalities), 11 articles were review-type work, where 10\\narticles reviewed methods that mentioned one or two ethical perspectives, and only one\\narticle24 discussed detailed ethical concerns on generative AI applications.\\nResolving privacy issues was the main aim of articles for these two data modalities (n=74 for\\nimage data and n=50 for structured data; see Figure 1), predominantly by generating synthetic\\ndata using GAN. Eight articles on image data and 9 articles on structured data used\\ngenerative AI to reduce bias, e.g., by synthesizing data for under-represented subgroups in\\nexisting databases. For both data modalities, we did not see explicit discussions on resolving\\nautonomy, integrity, or morality issues using generative AI, and for structured data the articles\\nadditionally lacked discussions on trust or transparency.\\nOnly 11 articles for image data selectively discussed some ethical issues that generative AI\\ncan give rise to, without specific discussions regarding autonomy, integrity, or morality. For\\nstructured data, only 4 articles discussed equity, privacy, or data security issues caused by\\ngenerative AI. Only two articles on structured data included both the cause and resolving\\nperspectives by discussing ethical issues that may arise from limitations of methods\\nproposed, specifically bias induced when synthesizing data in order to resolve privacy issues.\\n\\n', additional_kwargs={}, response_metadata={}),\n",
              " AIMessage(content='The increasing use of AI technologies like ChatGPT in fields like healthcare has raised ethical concerns. However, there is a lack of clarity on how to address these issues beyond existing guidelines and regulations. This study proposes an ethics checklist for assessing and documenting ethical discussions in AI development. The researchers conducted a review of current ethical discussions on AI in healthcare, analyzing 193 articles from 2013 to 2023. They found that while some articles discussed ethical issues caused by AI, others proposed AI-based solutions. The study also found that privacy, equity, and non-maleficence were the most discussed ethical principles. The proposed checklist can be integrated into the peer review and publication system to enhance AI research and can also be used to disclose ethical considerations in AI-powered products.', additional_kwargs={'refusal': None}, response_metadata={'token_usage': {'completion_tokens': 155, 'prompt_tokens': 1329, 'total_tokens': 1484, 'completion_tokens_details': {'accepted_prediction_tokens': 0, 'audio_tokens': 0, 'reasoning_tokens': 0, 'rejected_prediction_tokens': 0}, 'prompt_tokens_details': {'audio_tokens': 0, 'cached_tokens': 0}}, 'model_name': 'gpt-4-0613', 'system_fingerprint': None, 'finish_reason': 'stop', 'logprobs': None}, id='run-506a22d6-8288-4a2c-908e-29f48368c8e4-0', usage_metadata={'input_tokens': 1329, 'output_tokens': 155, 'total_tokens': 1484, 'input_token_details': {'audio': 0, 'cache_read': 0}, 'output_token_details': {'audio': 0, 'reasoning': 0}}),\n",
              " HumanMessage(content='\\nUse only the research paper abstract from earlier and create a detailed report for a healthcare company.\\nIn the report, also include bullet points (3 max) for pros and cons of ethics in Generative AI\\n', additional_kwargs={}, response_metadata={}),\n",
              " AIMessage(content='Subject: Detailed Report on Ethical Considerations in Generative AI for Healthcare\\n\\nDear Team,\\n\\nThis report is based on a recent research paper that focuses on the ethical considerations in the use of generative Artificial Intelligence (AI) in healthcare. The study highlights the increasing use of AI technologies, such as ChatGPT, and the ethical issues that arise from their application, particularly in high-stakes fields like healthcare.\\n\\nThe research paper proposes an ethics checklist as a solution to these ethical dilemmas. This checklist is designed for comprehensive assessment and transparent documentation of ethical discussions during the development of generative AI. It can be integrated into the current peer review and publication system to enhance AI research. Furthermore, it can be used in broader settings to disclose ethical considerations in AI-powered products, thereby helping users establish reasonable trust in their capabilities.\\n\\nThe researchers conducted a systematic scoping review of current ethical discussions on generative AI in healthcare. They analyzed 193 articles from January 2013 to July 2023. The review revealed that while some articles discussed ethical issues caused by AI, others proposed AI-based solutions. The most discussed ethical principles were privacy, equity, and non-maleficence.\\n\\nPros of Ethics in Generative AI:\\n1. Enhances Trust: Ethical considerations can help users establish reasonable trust in AI capabilities.\\n2. Promotes Equity: Ethical guidelines can ensure that AI technologies are used fairly and equitably.\\n3. Protects Privacy: Ethical considerations can help address privacy concerns in AI applications.\\n\\nCons of Ethics in Generative AI:\\n1. Lack of Clarity: There is a lack of clarity on how to address ethical issues beyond existing guidelines and regulations.\\n2. Evolving Discussions: Ethical discussions on generative AI are still ongoing, and consensus on many issues has not been reached.\\n3. Potential for Misuse: Despite ethical guidelines, there is always a risk of misuse of AI technologies, leading to potential ethical breaches.\\n\\nThe research paper underscores the importance of ongoing ethical discussions and the need for comprehensive guidelines to address potential ethical issues in the use of generative AI in healthcare.\\n\\nBest Regards,\\n[Your Name]', additional_kwargs={'refusal': None}, response_metadata={'token_usage': {'completion_tokens': 430, 'prompt_tokens': 1762, 'total_tokens': 2192, 'completion_tokens_details': {'accepted_prediction_tokens': 0, 'audio_tokens': 0, 'reasoning_tokens': 0, 'rejected_prediction_tokens': 0}, 'prompt_tokens_details': {'audio_tokens': 0, 'cached_tokens': 1664}}, 'model_name': 'gpt-4-0613', 'system_fingerprint': None, 'finish_reason': 'stop', 'logprobs': None}, id='run-630562c6-2b89-4045-b735-128496dd84af-0', usage_metadata={'input_tokens': 1762, 'output_tokens': 430, 'total_tokens': 2192, 'input_token_details': {'audio': 0, 'cache_read': 1664}, 'output_token_details': {'audio': 0, 'reasoning': 0}})]"
            ]
          },
          "metadata": {},
          "execution_count": 26
        }
      ]
    },
    {
      "cell_type": "markdown",
      "source": [
        "### **Generate third summary report**"
      ],
      "metadata": {
        "id": "QnzQFxIvozTK"
      }
    },
    {
      "cell_type": "markdown",
      "source": [
        "Here we will add previous LLM response and the new instructions to the list of messages and send the whole thing to LLM so it has access to the overall historical conversation"
      ],
      "metadata": {
        "id": "8Ek9jXJLo81O"
      }
    },
    {
      "cell_type": "code",
      "source": [
        "prompt_txt = f\"\"\"\n",
        "Use only the research paper abstract from earlier and create a detailed report for a generative AI company solving healthcare problems.\n",
        "In the report also include sections for key points mentioned around Generative AI for text, images and structured data based healthcare\n",
        "\"\"\"\n",
        "messages.append(HumanMessage(content=prompt_txt))\n",
        "user_instruction = {'instruction': messages}\n",
        "response = chain.invoke(user_instruction)"
      ],
      "metadata": {
        "id": "9WVfqSOVo_LP"
      },
      "execution_count": null,
      "outputs": []
    },
    {
      "cell_type": "code",
      "source": [
        "print(response.content)"
      ],
      "metadata": {
        "colab": {
          "base_uri": "https://localhost:8080/"
        },
        "id": "SO7XoGh4pBRY",
        "outputId": "08df1c69-0335-4f3e-a87c-81c024be7edd"
      },
      "execution_count": null,
      "outputs": [
        {
          "output_type": "stream",
          "name": "stdout",
          "text": [
            "Subject: Detailed Report on Ethical Considerations in Generative AI for Healthcare Applications\n",
            "\n",
            "Dear Team,\n",
            "\n",
            "This report is based on a recent research paper that focuses on the ethical considerations in the use of generative Artificial Intelligence (AI) in healthcare. The study highlights the increasing use of AI technologies, such as ChatGPT, and the ethical issues that arise from their application, particularly in high-stakes fields like healthcare.\n",
            "\n",
            "The research paper proposes an ethics checklist as a solution to these ethical dilemmas. This checklist is designed for comprehensive assessment and transparent documentation of ethical discussions during the development of generative AI. It can be integrated into the current peer review and publication system to enhance AI research. Furthermore, it can be used in broader settings to disclose ethical considerations in AI-powered products, thereby helping users establish reasonable trust in their capabilities.\n",
            "\n",
            "The researchers conducted a systematic scoping review of current ethical discussions on generative AI in healthcare. They analyzed 193 articles from January 2013 to July 2023. The review revealed that while some articles discussed ethical issues caused by AI, others proposed AI-based solutions. The most discussed ethical principles were privacy, equity, and non-maleficence.\n",
            "\n",
            "Generative AI for Text Data-Based Healthcare:\n",
            "- 41 of the 193 articles discussed ethical considerations pertaining to generative AI applications for text data.\n",
            "- Ethical issues caused by Language Learning Models (LLMs), specifically GPT, were discussed in 29 articles.\n",
            "- 15 of the 41 articles aimed to resolve some existing ethical issues by using LLMs and other generative AI.\n",
            "\n",
            "Generative AI for Image Data-Based Healthcare:\n",
            "- The use of generative AI for image data focuses on data synthesis and encryption.\n",
            "- Resolving privacy issues was the main aim of articles for image data, predominantly by generating synthetic data using Generative Adversarial Networks (GAN).\n",
            "\n",
            "Generative AI for Structured Data-Based Healthcare:\n",
            "- Similar to image data, generative AI for structured data also focuses on data synthesis and encryption.\n",
            "- Privacy issues were also the main focus for structured data, with generative AI being used to generate synthetic data.\n",
            "\n",
            "The research paper underscores the importance of ongoing ethical discussions and the need for comprehensive guidelines to address potential ethical issues in the use of generative AI in healthcare.\n",
            "\n",
            "Best Regards,\n",
            "[Your Name]\n"
          ]
        }
      ]
    }
  ]
}